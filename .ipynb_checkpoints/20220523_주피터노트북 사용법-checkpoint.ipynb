{
 "cells": [
  {
   "cell_type": "markdown",
   "id": "d0cdbafd",
   "metadata": {},
   "source": [
    "주피터 노트북 사용법\n",
    "\n",
    "셀을 클리하면 녹색으로 선택 영역이 지정됨.<br>\n",
    "녹색으로 선택된 셀에는 키보드 입력시 코드/입력문이 직접 입력됨.<br>\n",
    "녹색으로 선택된 셀에 esc를 입력하거나 혹은 셀만 선택시 파란색으로 선택됨.<br>\n",
    "\n",
    "파란색으로 선택된 셀에<br>\n",
    "b 입력 => 선택된 셀아래에 입력용 셀 추가<br>\n",
    "a 입력 => 선택된 셀 위에 입력용 셀 추가<br>\n",
    "dd(두 번)입력 => 선택된 셀 삭제<br>\n",
    "\n",
    "m => 선택된 셀을 코드 입력용이 아닌 필기용으로 전환<br>\n",
    "y => 선택된 셀을 필기용에서 코드 입력용으로 전환<br>\n",
    "\n",
    "필기용 셀은 shift + enter를 누르면 필기가 완료된 것으로 간주합니다."
   ]
  },
  {
   "cell_type": "code",
   "execution_count": null,
   "id": "0bd3a59f",
   "metadata": {},
   "outputs": [],
   "source": []
  },
  {
   "cell_type": "markdown",
   "id": "4ea549ec",
   "metadata": {},
   "source": [
    "# 주피터 노트북 필기\n",
    "## #키를 이용하면 글씨크기 조절이\n",
    "### 가능합니다.\n",
    "#### #갯수가 많아지면 많아질수록\n",
    "##### 글시크기는 작아집니다.\n",
    "###### 6개까지 쓸 수 있습니다.\n",
    "\n",
    "-나열해서 필기하고 싶다면\n",
    "- -한 칸 뒤에 필기를 합니다.\n",
    "- 이렇게 나열이 됩니다.\n",
    "    - 띄어쓰기 네 칸 후에 -를 붙이면\n",
    "    - 도트 하위 항목으로 간주됩니다.\n",
    "        - 하위 항목에서 다시 띄어쓰기를 네 번 더 하면\n",
    "        - 하위의 하위 항목이 됩니다."
   ]
  },
  {
   "cell_type": "code",
   "execution_count": null,
   "id": "fcd3cc0d",
   "metadata": {},
   "outputs": [],
   "source": []
  }
 ],
 "metadata": {
  "kernelspec": {
   "display_name": "Python 3 (ipykernel)",
   "language": "python",
   "name": "python3"
  },
  "language_info": {
   "codemirror_mode": {
    "name": "ipython",
    "version": 3
   },
   "file_extension": ".py",
   "mimetype": "text/x-python",
   "name": "python",
   "nbconvert_exporter": "python",
   "pygments_lexer": "ipython3",
   "version": "3.9.7"
  }
 },
 "nbformat": 4,
 "nbformat_minor": 5
}
