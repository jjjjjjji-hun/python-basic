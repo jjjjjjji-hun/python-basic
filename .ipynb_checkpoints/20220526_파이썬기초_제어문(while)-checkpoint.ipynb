{
 "cells": [
  {
   "cell_type": "markdown",
   "id": "5cff32a1",
   "metadata": {},
   "source": [
    "# 제어문\n",
    "\n",
    "\n",
    "\n",
    "## 2-1. while 반복문(+조건문)\n",
    "\n",
    "주어진 조건을 판단하여 조건이 참일 동안 특정한 명령문을 반복적으로 수행하는 것\n",
    "\n",
    "▶ 기본 문법 \n",
    "\n",
    "        while 조건문:\n",
    "            반복적으로 수행할 문장1\n",
    "            반복적으로 수행할 문장2\n",
    "            ...\n",
    "            \n",
    "\n",
    "▶ 주의해야할 문법 : \n",
    "\n",
    "- 조건문 뒤에 반드시 콜론(:)을 써야 한다.\n",
    "\n",
    "\n",
    "- 조건문이 있는 문장 하위에 속하는 실행문장들은 반드시 한 번 들여쓰기 되어야 한다. ( 자동 / tab / space 4번)\n",
    "\n",
    "\n",
    "- 무한반복문에 대한 이해와 관련된 키워드(break, continue 등)를 활용할 수 있어야 한다.\n",
    "\n",
    "\n",
    "\n",
    "\n",
    "▶ 무한반복문 : 조건문이 무조건 참인 경우, while 반복문은 무한히 반복된다.\n",
    "\n",
    "- break 키워드 : 특정 조건을 만족할 경우 제어문을 빠져나가 반복을 종료한다.\n",
    "\n",
    "\n",
    "- continue : 특정 조건을 만족할 경우 반복문을 종료하는 것이 아니라 반복문의 시작으로 돌아간다. (참고) pass"
   ]
  },
  {
   "cell_type": "code",
   "execution_count": 1,
   "id": "8bd346b4",
   "metadata": {},
   "outputs": [
    {
     "name": "stdout",
     "output_type": "stream",
     "text": [
      "Hello word\n",
      "Hello word\n",
      "Hello word\n"
     ]
    }
   ],
   "source": [
    "# Hello word 3번 출력\n",
    "loop = 0\n",
    "while loop <= 2:\n",
    "    loop += 1\n",
    "    print(\"Hello word\")"
   ]
  },
  {
   "cell_type": "code",
   "execution_count": 2,
   "id": "80a8e185",
   "metadata": {},
   "outputs": [
    {
     "name": "stdout",
     "output_type": "stream",
     "text": [
      "무한루프\n",
      "무한루프\n",
      "무한루프\n"
     ]
    }
   ],
   "source": [
    "# while문의 조건식이 무조건 참으로만 판단되는 경우 무한푸르가 된다.\n",
    "# 이 경우 보통 break문을 조합해 종료시킨다.\n",
    "a = 1\n",
    "while True:\n",
    "    print(\"무한루프\")\n",
    "    if a > 2:\n",
    "        break\n",
    "    a += 1"
   ]
  },
  {
   "cell_type": "code",
   "execution_count": 3,
   "id": "1c2d5da5",
   "metadata": {},
   "outputs": [
    {
     "name": "stdout",
     "output_type": "stream",
     "text": [
      "3\n",
      "5\n",
      "7\n",
      "9\n"
     ]
    }
   ],
   "source": [
    "# 돌던 바퀴만 스킵하고 전체 반복문 실행은 유지하고 싶다면 continue를 사용한다.\n",
    "a = 1\n",
    "while a < 10:\n",
    "    a += 1\n",
    "    if a % 2 == 0:\n",
    "        continue\n",
    "    print(a)"
   ]
  },
  {
   "cell_type": "markdown",
   "id": "6bca5674",
   "metadata": {},
   "source": [
    "#### 학생들의 점수를 나타내는 리스트에서 아래의 구간으로 매기고, 각 학점별로 몇 명이 있는지를 적합한 데이터 타입으로 저장하세요.\n",
    "\n",
    "- 점수구간\n",
    "    81점 ~ 100점 = A\n",
    "    61점 ~ 80점 = B\n",
    "    41점 ~ 60점 = C\n",
    "    ~ 40점 = Fail"
   ]
  },
  {
   "cell_type": "code",
   "execution_count": 56,
   "id": "786f26be",
   "metadata": {},
   "outputs": [],
   "source": [
    "scores = [90, 89, 83, 61, 69, 77, 75, 64, 45, 56, 50, 10, 20]"
   ]
  },
  {
   "cell_type": "code",
   "execution_count": 57,
   "id": "c26de8c7",
   "metadata": {},
   "outputs": [],
   "source": [
    "# 힌트 : scores에 대해서 .pop() 연산을 이용해서 반복 여부를 결정합니다.\n",
    "a = []\n",
    "b = []\n",
    "c = []\n",
    "f = []"
   ]
  },
  {
   "cell_type": "code",
   "execution_count": 62,
   "id": "7c279e24",
   "metadata": {},
   "outputs": [
    {
     "name": "stdout",
     "output_type": "stream",
     "text": [
      "[83, 89, 90] [64, 75, 77, 69, 61] [50, 56, 45] [20, 10]\n",
      "3 5 3 2\n"
     ]
    }
   ],
   "source": [
    "while scores:\n",
    "    num = scores.pop()\n",
    "    if num > 80:\n",
    "        a.append(num)\n",
    "    elif num > 60:\n",
    "        b.append(num)\n",
    "    elif num > 40:\n",
    "        c.append(num)\n",
    "    else:\n",
    "        f.append(num)\n",
    "print(a, b, c, f)\n",
    "print(len(a), len(b), len(c), len(f))"
   ]
  },
  {
   "cell_type": "code",
   "execution_count": null,
   "id": "17797820",
   "metadata": {},
   "outputs": [],
   "source": []
  }
 ],
 "metadata": {
  "kernelspec": {
   "display_name": "Python 3 (ipykernel)",
   "language": "python",
   "name": "python3"
  },
  "language_info": {
   "codemirror_mode": {
    "name": "ipython",
    "version": 3
   },
   "file_extension": ".py",
   "mimetype": "text/x-python",
   "name": "python",
   "nbconvert_exporter": "python",
   "pygments_lexer": "ipython3",
   "version": "3.9.12"
  }
 },
 "nbformat": 4,
 "nbformat_minor": 5
}
