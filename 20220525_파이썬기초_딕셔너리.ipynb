{
 "cells": [
  {
   "cell_type": "markdown",
   "id": "1888dba8",
   "metadata": {},
   "source": [
    "# 3. 딕셔너리(Dictionary)\n",
    "\n",
    "▶ 문법 기호/함수 : {key1 : value1, key2 : value2, key3 : value3 ... } / 함수 : dict()\n",
    "\n",
    "\n",
    "▶ key로 가질 수 있는 데이터 타입 : 문자, 숫자, 튜플(Tuple)\n",
    "\n",
    "▶ value로 가질 수 있는 데이터 타입 : 문자, 숫자, 리스트(List), 딕셔너리(Dict) ...\n",
    "\n",
    "▶ 아이템 = key&value 하나의 쌍\n",
    "\n",
    "▶ 종류\n",
    "\n",
    "     * 아이템이 없는 딕셔너리\n",
    "    \n",
    "     * 1차원 딕셔너리\n",
    "    \n",
    "     * 다차원 딕셔너리 \n",
    "    \n",
    "    \n",
    "▶ 특징\n",
    "\n",
    "     * key, value의 차이점\n",
    "    \n",
    "     * 인덱스 번호를 가지지 않는다."
   ]
  },
  {
   "cell_type": "markdown",
   "id": "ac2cc024",
   "metadata": {},
   "source": [
    "### 1) 생성하기"
   ]
  },
  {
   "cell_type": "code",
   "execution_count": 1,
   "id": "b1dc2886",
   "metadata": {},
   "outputs": [
    {
     "data": {
      "text/plain": [
       "dict"
      ]
     },
     "execution_count": 1,
     "metadata": {},
     "output_type": "execute_result"
    }
   ],
   "source": [
    "# 딕셔너리 생성하기\n",
    "# 문법기호 : {k1:v1, k2:v2, k3:v3...}\n",
    "d1 = {1:10, 2:20, 3:30}\n",
    "type(d1)"
   ]
  },
  {
   "cell_type": "code",
   "execution_count": 2,
   "id": "5bac7223",
   "metadata": {},
   "outputs": [
    {
     "data": {
      "text/plain": [
       "{}"
      ]
     },
     "execution_count": 2,
     "metadata": {},
     "output_type": "execute_result"
    }
   ],
   "source": [
    "# 함수 dict()를 이용해서 딕셔너리를 만들수도 있습니다.\n",
    "d2 = dict()\n",
    "d2"
   ]
  },
  {
   "cell_type": "code",
   "execution_count": 3,
   "id": "7c243ba8",
   "metadata": {},
   "outputs": [
    {
     "data": {
      "text/plain": [
       "list"
      ]
     },
     "execution_count": 3,
     "metadata": {},
     "output_type": "execute_result"
    }
   ],
   "source": [
    "# 2차원 자료를 이용해 딕셔너리롤 변환 가능\n",
    "x = [['a', 'b'], ['a1', 'b1'], ['a2', 'b2']]\n",
    "type(x)"
   ]
  },
  {
   "cell_type": "code",
   "execution_count": 4,
   "id": "44534eee",
   "metadata": {},
   "outputs": [
    {
     "data": {
      "text/plain": [
       "{'a': 'b', 'a1': 'b1', 'a2': 'b2'}"
      ]
     },
     "execution_count": 4,
     "metadata": {},
     "output_type": "execute_result"
    }
   ],
   "source": [
    "# 2차원배열 x를 딕셔너리로 변환\n",
    "dict(x)"
   ]
  },
  {
   "cell_type": "code",
   "execution_count": 5,
   "id": "fbeece5f",
   "metadata": {},
   "outputs": [
    {
     "data": {
      "text/plain": [
       "{1: [1, 2, 3], 2: {'a': 'b'}}"
      ]
     },
     "execution_count": 5,
     "metadata": {},
     "output_type": "execute_result"
    }
   ],
   "source": [
    "# 딕셔너리의 value 값에 들어갈 수 있는 자료에는 제약이 없다.\n",
    "{1:[1, 2, 3], 2:{'a':'b'}}"
   ]
  },
  {
   "cell_type": "code",
   "execution_count": 6,
   "id": "6065a1b0",
   "metadata": {},
   "outputs": [
    {
     "data": {
      "text/plain": [
       "{'name': '임꺽정', 'name2': '이순신'}"
      ]
     },
     "execution_count": 6,
     "metadata": {},
     "output_type": "execute_result"
    }
   ],
   "source": [
    "# key 와 value의 차이\n",
    "# key값에는 중복된 자료가 들어갈 수 없으며\n",
    "# 만약 선언단계에서 중복된 key를 선언 시 가장 마지막 하나만 남습니다.\n",
    "{'name':'홍길동', 'name':'임꺽정', 'name2':'이순신'}"
   ]
  },
  {
   "cell_type": "markdown",
   "id": "e9e6d34a",
   "metadata": {},
   "source": [
    "### 2) 인덱싱\n",
    "\n",
    "- 인덱싱 문법 기호\n",
    "\n",
    "- 일차원 VS 다차원 인덱싱\n",
    "\n",
    "- 딕셔너리 내장함수로 인덱싱"
   ]
  },
  {
   "cell_type": "code",
   "execution_count": 7,
   "id": "5a13c161",
   "metadata": {},
   "outputs": [
    {
     "data": {
      "text/plain": [
       "1"
      ]
     },
     "execution_count": 7,
     "metadata": {},
     "output_type": "execute_result"
    }
   ],
   "source": [
    "# 기존의 인덱싱 방법 : 객체[인덱싱 번호]\n",
    "a = [1, 2, 3]\n",
    "a[0]"
   ]
  },
  {
   "cell_type": "code",
   "execution_count": 8,
   "id": "d6a34c6a",
   "metadata": {},
   "outputs": [],
   "source": [
    "# 문자, 리스트타입 인덱싱과의 차이점 : 기준값이 인덱스번호가 아닌 key 값을 사용\n",
    "d1 = {'a':10, 'b':20, 'c':30}"
   ]
  },
  {
   "cell_type": "code",
   "execution_count": 9,
   "id": "96d98ffa",
   "metadata": {},
   "outputs": [
    {
     "ename": "KeyError",
     "evalue": "0",
     "output_type": "error",
     "traceback": [
      "\u001b[1;31m---------------------------------------------------------------------------\u001b[0m",
      "\u001b[1;31mKeyError\u001b[0m                                  Traceback (most recent call last)",
      "Input \u001b[1;32mIn [9]\u001b[0m, in \u001b[0;36m<cell line: 2>\u001b[1;34m()\u001b[0m\n\u001b[0;32m      1\u001b[0m \u001b[38;5;66;03m# 인덱싱 방식 : 없는 값을 조회하면 에러\u001b[39;00m\n\u001b[1;32m----> 2\u001b[0m \u001b[43md1\u001b[49m\u001b[43m[\u001b[49m\u001b[38;5;241;43m0\u001b[39;49m\u001b[43m]\u001b[49m\n",
      "\u001b[1;31mKeyError\u001b[0m: 0"
     ]
    }
   ],
   "source": [
    "# 인덱싱 방식 : 없는 값을 조회하면 에러\n",
    "d1[0]"
   ]
  },
  {
   "cell_type": "code",
   "execution_count": 10,
   "id": "50dcc59e",
   "metadata": {},
   "outputs": [
    {
     "data": {
      "text/plain": [
       "10"
      ]
     },
     "execution_count": 10,
     "metadata": {},
     "output_type": "execute_result"
    }
   ],
   "source": [
    "# 딕셔너리 인덱싱 방식\n",
    "d1['a']"
   ]
  },
  {
   "cell_type": "code",
   "execution_count": 11,
   "id": "d57197be",
   "metadata": {},
   "outputs": [],
   "source": [
    "# 내장함수 .get()을 사용하면 없는 키값으로 조회해도 에러는 나지 않는다.\n",
    "d1.get('d') # 없는 키값은 그냥 결과값 없이 실행 끝"
   ]
  },
  {
   "cell_type": "code",
   "execution_count": 12,
   "id": "6ad4f0a1",
   "metadata": {},
   "outputs": [
    {
     "ename": "TypeError",
     "evalue": "unhashable type: 'slice'",
     "output_type": "error",
     "traceback": [
      "\u001b[1;31m---------------------------------------------------------------------------\u001b[0m",
      "\u001b[1;31mTypeError\u001b[0m                                 Traceback (most recent call last)",
      "Input \u001b[1;32mIn [12]\u001b[0m, in \u001b[0;36m<cell line: 3>\u001b[1;34m()\u001b[0m\n\u001b[0;32m      1\u001b[0m \u001b[38;5;66;03m# 딕셔너리는 슬라이싱이 불가능하다\u001b[39;00m\n\u001b[0;32m      2\u001b[0m \u001b[38;5;66;03m# 슬라이싱 대신 반복문을 사용하는 수 밖에 없다.\u001b[39;00m\n\u001b[1;32m----> 3\u001b[0m \u001b[43md1\u001b[49m\u001b[43m[\u001b[49m\u001b[38;5;124;43m'\u001b[39;49m\u001b[38;5;124;43ma\u001b[39;49m\u001b[38;5;124;43m'\u001b[39;49m\u001b[43m:\u001b[49m\u001b[38;5;124;43m'\u001b[39;49m\u001b[38;5;124;43mc\u001b[39;49m\u001b[38;5;124;43m'\u001b[39;49m\u001b[43m]\u001b[49m\n",
      "\u001b[1;31mTypeError\u001b[0m: unhashable type: 'slice'"
     ]
    }
   ],
   "source": [
    "# 딕셔너리는 슬라이싱이 불가능하다\n",
    "# 슬라이싱 대신 반복문을 사용하는 수 밖에 없다.\n",
    "d1['a':'c']"
   ]
  },
  {
   "cell_type": "markdown",
   "id": "5e537fe8",
   "metadata": {},
   "source": [
    "# <<연습문제>>\n",
    "\n",
    "아래와 같은 다차원 딕셔너리를 만들고 제시한 값을 출력해보세요\n",
    "\n",
    "    {'a' : [1, 2, 3], 'b' : 100, 'c' : {'key1' : ['파인애플', '포도', '바나나'], 'key2' : (55, 56)}}\n",
    "    \n",
    "* 1) 3 출력하기\n",
    "\n",
    "* 2) ['파인애플', '포도', '바나나']\n",
    "\n",
    "* 3) 포도 출력하기\n",
    "\n",
    "* 4) 55 출력하기"
   ]
  },
  {
   "cell_type": "code",
   "execution_count": 35,
   "id": "36e54efd",
   "metadata": {},
   "outputs": [],
   "source": [
    "dic = {'a' : [1, 2, 3], 'b' : 100, 'c' : {'key1' : ['파인애플', '포도', '바나나'], 'key2' : (55, 56)}}"
   ]
  },
  {
   "cell_type": "code",
   "execution_count": 37,
   "id": "e19d6a64",
   "metadata": {},
   "outputs": [
    {
     "data": {
      "text/plain": [
       "3"
      ]
     },
     "execution_count": 37,
     "metadata": {},
     "output_type": "execute_result"
    }
   ],
   "source": [
    "dic['a'][2]"
   ]
  },
  {
   "cell_type": "code",
   "execution_count": 38,
   "id": "0edc799a",
   "metadata": {},
   "outputs": [
    {
     "data": {
      "text/plain": [
       "['파인애플', '포도', '바나나']"
      ]
     },
     "execution_count": 38,
     "metadata": {},
     "output_type": "execute_result"
    }
   ],
   "source": [
    "dic['c']['key1']"
   ]
  },
  {
   "cell_type": "code",
   "execution_count": 39,
   "id": "3ce2b8ee",
   "metadata": {},
   "outputs": [
    {
     "data": {
      "text/plain": [
       "'포도'"
      ]
     },
     "execution_count": 39,
     "metadata": {},
     "output_type": "execute_result"
    }
   ],
   "source": [
    "dic['c']['key1'][1]"
   ]
  },
  {
   "cell_type": "code",
   "execution_count": 42,
   "id": "a0f93f20",
   "metadata": {},
   "outputs": [
    {
     "data": {
      "text/plain": [
       "55"
      ]
     },
     "execution_count": 42,
     "metadata": {},
     "output_type": "execute_result"
    }
   ],
   "source": [
    "dic['c']['key2'][0]"
   ]
  },
  {
   "cell_type": "markdown",
   "id": "f8d1c9ab",
   "metadata": {},
   "source": [
    "### 3) 아이템 추가하기\n",
    "\n",
    "- 인덱싱 방식으로 새로운 아이템 추가\n",
    "\n",
    "- 메소드 :update()"
   ]
  },
  {
   "cell_type": "code",
   "execution_count": 47,
   "id": "5a695b37",
   "metadata": {},
   "outputs": [
    {
     "data": {
      "text/plain": [
       "{'a': 1, 'b': 2, 'c': 3}"
      ]
     },
     "execution_count": 47,
     "metadata": {},
     "output_type": "execute_result"
    }
   ],
   "source": [
    "d1 = {'a':1, 'b':2, 'c':3}\n",
    "d1"
   ]
  },
  {
   "cell_type": "code",
   "execution_count": 50,
   "id": "43e1192e",
   "metadata": {},
   "outputs": [
    {
     "data": {
      "text/plain": [
       "{'a': 1, 'b': 2, 'c': 3, 'd': 4}"
      ]
     },
     "execution_count": 50,
     "metadata": {},
     "output_type": "execute_result"
    }
   ],
   "source": [
    "# 새로운 key값(인덱싱)에 value값을 할당하여 아이템 추가\n",
    "d1['d'] = 4\n",
    "d1"
   ]
  },
  {
   "cell_type": "code",
   "execution_count": 51,
   "id": "19b34567",
   "metadata": {},
   "outputs": [
    {
     "data": {
      "text/plain": [
       "{'a': 10, 'b': 2, 'c': 3, 'd': 4}"
      ]
     },
     "execution_count": 51,
     "metadata": {},
     "output_type": "execute_result"
    }
   ],
   "source": [
    "# 기존에 존재하는 key값에 대해서 value를 할당하면 값이 갱신됨\n",
    "d1['a'] = 10\n",
    "d1"
   ]
  },
  {
   "cell_type": "code",
   "execution_count": 52,
   "id": "66a0f3e3",
   "metadata": {},
   "outputs": [
    {
     "data": {
      "text/plain": [
       "{'a': 10, 'b': 2, 'c': 3, 'd': 4, 'e': 10, 'z': 40, 'v': 100}"
      ]
     },
     "execution_count": 52,
     "metadata": {},
     "output_type": "execute_result"
    }
   ],
   "source": [
    "# 하나 이상의 아이템(key & value) 추가 / 수정 : 딕셔너리자료.update()\n",
    "# 추가할 아이템 타입 : 딕셔너리, 리스트(2차원으로 내부 요소가 2개씩 쌍으로 있는 경우)\n",
    "# 'e':10, 'z':40, 'v':100\n",
    "d1.update({'e':10, 'z':40, 'v':100})\n",
    "d1"
   ]
  },
  {
   "cell_type": "code",
   "execution_count": 55,
   "id": "a071556f",
   "metadata": {},
   "outputs": [],
   "source": [
    "# 리스트로 처리하기\n",
    "d2 = {'a':10, 'b':2, 'c':3, 'd':4}"
   ]
  },
  {
   "cell_type": "code",
   "execution_count": 56,
   "id": "d5372e33",
   "metadata": {},
   "outputs": [
    {
     "data": {
      "text/plain": [
       "{'a': 10, 'b': 10, 'c': 3, 'd': 4, 'e': 50, 'f': 100}"
      ]
     },
     "execution_count": 56,
     "metadata": {},
     "output_type": "execute_result"
    }
   ],
   "source": [
    "data = [('b', 10), ('e', 50), ('f', 100)]\n",
    "d2.update(data)\n",
    "d2"
   ]
  },
  {
   "cell_type": "markdown",
   "id": "786086aa",
   "metadata": {},
   "source": [
    "### 4) 삭제하기\n",
    "\n",
    "- 하나의 아이템 삭제하기\n",
    "\n",
    "- 모든 아이템 삭제하기 : 객체는 삭제되지 않는다."
   ]
  },
  {
   "cell_type": "code",
   "execution_count": 57,
   "id": "dd557a3e",
   "metadata": {},
   "outputs": [
    {
     "ename": "SyntaxError",
     "evalue": "cannot delete function call (634932842.py, line 2)",
     "output_type": "error",
     "traceback": [
      "\u001b[1;36m  Input \u001b[1;32mIn [57]\u001b[1;36m\u001b[0m\n\u001b[1;33m    del d2.get('d')\u001b[0m\n\u001b[1;37m        ^\u001b[0m\n\u001b[1;31mSyntaxError\u001b[0m\u001b[1;31m:\u001b[0m cannot delete function call\n"
     ]
    }
   ],
   "source": [
    "# 하나의 아이템 삭제하기 : del키워드 + 딕셔너리인덱싱(단, .get()은 적용 X)\n",
    "del d2.get('d')"
   ]
  },
  {
   "cell_type": "code",
   "execution_count": 58,
   "id": "e1547651",
   "metadata": {},
   "outputs": [
    {
     "data": {
      "text/plain": [
       "{'a': 10, 'b': 10, 'c': 3, 'e': 50, 'f': 100}"
      ]
     },
     "execution_count": 58,
     "metadata": {},
     "output_type": "execute_result"
    }
   ],
   "source": [
    "del d2['d']\n",
    "d2"
   ]
  },
  {
   "cell_type": "code",
   "execution_count": 59,
   "id": "e223424e",
   "metadata": {},
   "outputs": [
    {
     "data": {
      "text/plain": [
       "{}"
      ]
     },
     "execution_count": 59,
     "metadata": {},
     "output_type": "execute_result"
    }
   ],
   "source": [
    "# 딕셔너리 비우기 : 딕셔너리.clear()\n",
    "# del은 변수 자체가 삭제되지만, .clear()는 변수는 남아있되 내부만 비워준다.\n",
    "d2.clear()\n",
    "d2"
   ]
  },
  {
   "cell_type": "code",
   "execution_count": 60,
   "id": "b81a1fff",
   "metadata": {},
   "outputs": [
    {
     "data": {
      "text/plain": [
       "{'a': 10, 'b': 2, 'c': 3, 'd': 4, 'e': 10, 'z': 40, 'v': 100}"
      ]
     },
     "execution_count": 60,
     "metadata": {},
     "output_type": "execute_result"
    }
   ],
   "source": [
    "# 주의 : del키워드로 전체 삭제 시 빈 딕셔너리조차 남지 않음\n",
    "d3 = d1\n",
    "d3"
   ]
  },
  {
   "cell_type": "code",
   "execution_count": 61,
   "id": "389f296d",
   "metadata": {},
   "outputs": [
    {
     "ename": "NameError",
     "evalue": "name 'd3' is not defined",
     "output_type": "error",
     "traceback": [
      "\u001b[1;31m---------------------------------------------------------------------------\u001b[0m",
      "\u001b[1;31mNameError\u001b[0m                                 Traceback (most recent call last)",
      "Input \u001b[1;32mIn [61]\u001b[0m, in \u001b[0;36m<cell line: 2>\u001b[1;34m()\u001b[0m\n\u001b[0;32m      1\u001b[0m \u001b[38;5;28;01mdel\u001b[39;00m d3\n\u001b[1;32m----> 2\u001b[0m \u001b[43md3\u001b[49m\n",
      "\u001b[1;31mNameError\u001b[0m: name 'd3' is not defined"
     ]
    }
   ],
   "source": [
    "del d3 # d3이 아예 삭제되어 조회 불가능\n",
    "d3"
   ]
  },
  {
   "cell_type": "code",
   "execution_count": null,
   "id": "2808963c",
   "metadata": {},
   "outputs": [],
   "source": []
  },
  {
   "cell_type": "code",
   "execution_count": null,
   "id": "8593f378",
   "metadata": {},
   "outputs": [],
   "source": []
  }
 ],
 "metadata": {
  "kernelspec": {
   "display_name": "Python 3 (ipykernel)",
   "language": "python",
   "name": "python3"
  },
  "language_info": {
   "codemirror_mode": {
    "name": "ipython",
    "version": 3
   },
   "file_extension": ".py",
   "mimetype": "text/x-python",
   "name": "python",
   "nbconvert_exporter": "python",
   "pygments_lexer": "ipython3",
   "version": "3.9.12"
  }
 },
 "nbformat": 4,
 "nbformat_minor": 5
}
