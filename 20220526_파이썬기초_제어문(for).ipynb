{
 "cells": [
  {
   "cell_type": "markdown",
   "id": "c3f5cb03",
   "metadata": {},
   "source": [
    "# 제어문\n",
    "\n",
    "\n",
    "\n",
    "# 2-2. for 반복문\n",
    "\n",
    "자료형(리스트, 튜플, 문자열)의 모든 아이템에 대하여 처음부터 마지막까지 차례대로 접근하여 실행문을 적용한다.\n",
    "\n",
    "▶ 기본 문법 \n",
    "\n",
    "        for 임시변수 in 자료형 :\n",
    "            수행할 문장1\n",
    "            수행할 문장2\n",
    "            ...\n",
    "            \n",
    "\n",
    "▶ 임시변수 \n",
    "\n",
    "        - for 반복문이 실행되면 자료형의 아이템이 차례대로 임시변수에 할당된다.\n",
    "        \n",
    "        - 기본적으로 변수는 할당문이 존재해야 하지만 임시변수는 할당문이 필요 없는 객체이다."
   ]
  },
  {
   "cell_type": "code",
   "execution_count": 3,
   "id": "ec9f77e0",
   "metadata": {},
   "outputs": [
    {
     "name": "stdout",
     "output_type": "stream",
     "text": [
      "Hello word 1\n",
      "Hello word 4\n",
      "Hello word 77\n"
     ]
    }
   ],
   "source": [
    "# 하나의 아이템에 접근 : 리스트 자료형\n",
    "a = [1, 4, 77]\n",
    "for i in a:\n",
    "    print(\"Hello word\", i)"
   ]
  },
  {
   "cell_type": "code",
   "execution_count": 4,
   "id": "46cb6046",
   "metadata": {},
   "outputs": [
    {
     "name": "stdout",
     "output_type": "stream",
     "text": [
      "10\n",
      "20\n",
      "30\n"
     ]
    }
   ],
   "source": [
    "# 하나의 아이템에 접근 : 튜플 자료형\n",
    "tu = 10, 20, 30\n",
    "for i in tu:\n",
    "    print(i)"
   ]
  },
  {
   "cell_type": "code",
   "execution_count": 5,
   "id": "4ecff355",
   "metadata": {},
   "outputs": [
    {
     "name": "stdout",
     "output_type": "stream",
     "text": [
      "a\n",
      "b\n",
      "c\n",
      "d\n"
     ]
    }
   ],
   "source": [
    "# 하나의 아이템에 접근 : 문자열\n",
    "for t in 'abcd':\n",
    "    print(t)"
   ]
  },
  {
   "cell_type": "code",
   "execution_count": 6,
   "id": "ae6ecd4e",
   "metadata": {},
   "outputs": [
    {
     "data": {
      "text/plain": [
       "True"
      ]
     },
     "execution_count": 6,
     "metadata": {},
     "output_type": "execute_result"
    }
   ],
   "source": [
    "# 하나의 아이템에 접근 : 딕셔너리 자료형\n",
    "# 딕셔너리 자료형에 대해서는 반복문 접근시 key값 기준으로 접근함\n",
    "# 따라서 딕셔너리 접근은 .keys()의 요소에 접근하는것과 결과가 동일함\n",
    "d1 = {'a':1, 'b':2, 'c':3}\n",
    "'a' in d1"
   ]
  },
  {
   "cell_type": "code",
   "execution_count": 7,
   "id": "92b7b90a",
   "metadata": {},
   "outputs": [
    {
     "name": "stdout",
     "output_type": "stream",
     "text": [
      "a\n",
      "b\n",
      "c\n"
     ]
    }
   ],
   "source": [
    "for k in d1:\n",
    "    print(k)"
   ]
  },
  {
   "cell_type": "code",
   "execution_count": 8,
   "id": "f2298762",
   "metadata": {},
   "outputs": [
    {
     "name": "stdout",
     "output_type": "stream",
     "text": [
      "a\n",
      "b\n",
      "c\n"
     ]
    }
   ],
   "source": [
    "for k in d1.keys():\n",
    "    print(k)"
   ]
  },
  {
   "cell_type": "code",
   "execution_count": 9,
   "id": "e09eb5af",
   "metadata": {},
   "outputs": [
    {
     "name": "stdout",
     "output_type": "stream",
     "text": [
      "a 1\n",
      "b 2\n",
      "c 3\n"
     ]
    }
   ],
   "source": [
    "# 딕셔너리 타입에서 value값 가져오기 (.value()를 사용하지 않고 가져오기)\n",
    "for k in d1:\n",
    "    print(k, d1[k])"
   ]
  },
  {
   "cell_type": "code",
   "execution_count": 10,
   "id": "05cc2d71",
   "metadata": {},
   "outputs": [
    {
     "name": "stdout",
     "output_type": "stream",
     "text": [
      "1\n",
      "2\n",
      "3\n"
     ]
    }
   ],
   "source": [
    "# .values()를 이용해서 value값만 조회\n",
    "for k in d1.values():\n",
    "    print(k)"
   ]
  },
  {
   "cell_type": "code",
   "execution_count": null,
   "id": "2883bc96",
   "metadata": {},
   "outputs": [],
   "source": []
  }
 ],
 "metadata": {
  "kernelspec": {
   "display_name": "Python 3 (ipykernel)",
   "language": "python",
   "name": "python3"
  },
  "language_info": {
   "codemirror_mode": {
    "name": "ipython",
    "version": 3
   },
   "file_extension": ".py",
   "mimetype": "text/x-python",
   "name": "python",
   "nbconvert_exporter": "python",
   "pygments_lexer": "ipython3",
   "version": "3.9.12"
  }
 },
 "nbformat": 4,
 "nbformat_minor": 5
}
