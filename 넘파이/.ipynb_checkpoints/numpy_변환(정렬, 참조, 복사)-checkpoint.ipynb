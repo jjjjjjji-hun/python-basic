{
 "cells": [
  {
   "cell_type": "code",
   "execution_count": 1,
   "id": "666aa1d7",
   "metadata": {},
   "outputs": [],
   "source": [
    "# (공통) 라이브러리 불러오기 및 사용자 함수 정의\n",
    "import numpy as np\n",
    "\n",
    "def np_print(nparr):\n",
    "    print('''\n",
    "    type : {}  \n",
    "    shape : {}  \n",
    "    dimension : {}  \n",
    "    dtype : {}\n",
    "    data :\\n {}\n",
    "    '''.format(type(nparr), nparr.shape, nparr.ndim, nparr.dtype, nparr))"
   ]
  },
  {
   "cell_type": "markdown",
   "id": "23b3f015",
   "metadata": {},
   "source": [
    "### 배열 정렬\n",
    "\n",
    "- sort(axis = -1) 메서드 : axis를 기준으로 요소를 오름차순 정렬\n",
    "    - 기본값(axis = -1) : 현재 배열의 마지막 axis\n",
    "    - axis = 0 : 열 단위 정렬\n",
    "    - axis = 1 : 행 단위 정렬\n",
    "    - 원본 객체에 정렬 결과가 반영됨\n",
    "    \n",
    "- np.sort(axis = -1) : axis를 기준으로 요소를 오름차순 정렬\n",
    "    - 기본값(axis = -1) : 현재 배열의 마지막 axis\n",
    "    - axis = 0 : 열 단위 정렬\n",
    "    - axis = 1 : 행 단위 정렬\n",
    "    - 정렬된 새로운 배열을 반환함\n",
    "    \n",
    "- np.argsort(arr) : 정렬 순서를 반환\n",
    "    - 기본값(axis = -1) : 현재 배열의 마지막 axis\n",
    "    - axis = 0 : 열 단위 정렬\n",
    "    - axis = 1 : 행 단위 정렬"
   ]
  },
  {
   "cell_type": "code",
   "execution_count": 3,
   "id": "56e75bff",
   "metadata": {},
   "outputs": [
    {
     "name": "stdout",
     "output_type": "stream",
     "text": [
      "\n",
      "    type : <class 'numpy.ndarray'>  \n",
      "    shape : (5,)  \n",
      "    dimension : 1  \n",
      "    dtype : int32\n",
      "    data :\n",
      " [0 1 2 3 4]\n",
      "    \n"
     ]
    }
   ],
   "source": [
    "# 1차원 배열 생성\n",
    "x = np.arange(0, 5)\n",
    "np_print(x)"
   ]
  },
  {
   "cell_type": "code",
   "execution_count": 4,
   "id": "b1e635e7",
   "metadata": {},
   "outputs": [
    {
     "data": {
      "text/plain": [
       "array([4, 3, 2, 1, 0])"
      ]
     },
     "execution_count": 4,
     "metadata": {},
     "output_type": "execute_result"
    }
   ],
   "source": [
    "# 기존 파이썬 문법으로 순번 뒤집기\n",
    "x[::-1]"
   ]
  },
  {
   "cell_type": "code",
   "execution_count": 11,
   "id": "9721afe4",
   "metadata": {},
   "outputs": [
    {
     "name": "stdout",
     "output_type": "stream",
     "text": [
      "\n",
      "    type : <class 'numpy.ndarray'>  \n",
      "    shape : (5,)  \n",
      "    dimension : 1  \n",
      "    dtype : int32\n",
      "    data :\n",
      " [1 5 9 4 3]\n",
      "    \n"
     ]
    }
   ],
   "source": [
    "# 오름차순 정렬 테스트용 난수배열 만들기\n",
    "# 0이상 9이하 숫자 5개를 난수생성으로 만들어서 찍어주세요.\n",
    "y = np.random.randint(0,10,5)\n",
    "np_print(y)"
   ]
  },
  {
   "cell_type": "code",
   "execution_count": 12,
   "id": "0a8f9bb3",
   "metadata": {},
   "outputs": [
    {
     "data": {
      "text/plain": [
       "array([1, 3, 4, 5, 9])"
      ]
     },
     "execution_count": 12,
     "metadata": {},
     "output_type": "execute_result"
    }
   ],
   "source": [
    "# np.sort(자료) => 원본 자료가 바뀌지는 않음\n",
    "np.sort(y)"
   ]
  },
  {
   "cell_type": "code",
   "execution_count": 13,
   "id": "04f937ad",
   "metadata": {},
   "outputs": [
    {
     "data": {
      "text/plain": [
       "array([1, 5, 9, 4, 3])"
      ]
     },
     "execution_count": 13,
     "metadata": {},
     "output_type": "execute_result"
    }
   ],
   "source": [
    "y"
   ]
  },
  {
   "cell_type": "code",
   "execution_count": 14,
   "id": "b3c32ca3",
   "metadata": {},
   "outputs": [],
   "source": [
    "# 자료.sort() -> 원본 자료 변경\n",
    "y.sort()"
   ]
  },
  {
   "cell_type": "code",
   "execution_count": 15,
   "id": "763b0176",
   "metadata": {},
   "outputs": [
    {
     "data": {
      "text/plain": [
       "array([1, 3, 4, 5, 9])"
      ]
     },
     "execution_count": 15,
     "metadata": {},
     "output_type": "execute_result"
    }
   ],
   "source": [
    "y"
   ]
  },
  {
   "cell_type": "code",
   "execution_count": 16,
   "id": "5b2a6d8a",
   "metadata": {},
   "outputs": [
    {
     "name": "stdout",
     "output_type": "stream",
     "text": [
      "\n",
      "    type : <class 'numpy.ndarray'>  \n",
      "    shape : (5,)  \n",
      "    dimension : 1  \n",
      "    dtype : int32\n",
      "    data :\n",
      " [6 4 7 2 8]\n",
      "    \n"
     ]
    }
   ],
   "source": [
    "z = np.random.randint(0, 10, 5)\n",
    "np_print(z)"
   ]
  },
  {
   "cell_type": "code",
   "execution_count": 18,
   "id": "daefe60c",
   "metadata": {},
   "outputs": [
    {
     "data": {
      "text/plain": [
       "array([3, 1, 0, 2, 4], dtype=int64)"
      ]
     },
     "execution_count": 18,
     "metadata": {},
     "output_type": "execute_result"
    }
   ],
   "source": [
    "# np.argsort(자료)는 내부의 아이템들을 오름차순 정렬하기 위해서는\n",
    "# 현재 몇 번 인덱스에 있는 자료를 어디에 배치해야 하는지 보여줌\n",
    "np.argsort(z)"
   ]
  },
  {
   "cell_type": "code",
   "execution_count": 21,
   "id": "02d95fc4",
   "metadata": {},
   "outputs": [
    {
     "name": "stdout",
     "output_type": "stream",
     "text": [
      "\n",
      "    type : <class 'numpy.ndarray'>  \n",
      "    shape : (3, 3)  \n",
      "    dimension : 2  \n",
      "    dtype : float64\n",
      "    data :\n",
      " [[0.38439383 0.23731417 0.7241529 ]\n",
      " [0.99450266 0.12845633 0.73178641]\n",
      " [0.87525148 0.26432021 0.66015755]]\n",
      "    \n",
      "\n",
      "    type : <class 'numpy.ndarray'>  \n",
      "    shape : (3, 3)  \n",
      "    dimension : 2  \n",
      "    dtype : float64\n",
      "    data :\n",
      " [[0.27078672 0.21022714 0.62364758]\n",
      " [0.54770045 0.09517112 0.3818331 ]\n",
      " [0.20978819 0.07468086 0.68570546]]\n",
      "    \n"
     ]
    }
   ],
   "source": [
    "# 0이상 1미만의 범위에서 무작위로 실수값을 가지는 3행 3열의 배열 2개 생성\n",
    "# np.random.random을 이용하세요.\n",
    "a = np.random.random((3, 3))\n",
    "b = np.random.random(9).reshape(3, 3)\n",
    "np_print(a)\n",
    "np_print(b)"
   ]
  },
  {
   "cell_type": "markdown",
   "id": "b3f45791",
   "metadata": {},
   "source": [
    "#### 예) 2차원 배열의 경우\n",
    "\n",
    "기본값 axis = -1 <br>\n",
    "현재 배열의 axis = 0, 1 <br>\n",
    "마지막 axis = 1 (열별 정렬)\n",
    "\n",
    "<img src='img/sortaxis1.jpg' width='200' height='200' align='left'>"
   ]
  },
  {
   "cell_type": "code",
   "execution_count": 22,
   "id": "ee1ad7d8",
   "metadata": {
    "scrolled": true
   },
   "outputs": [
    {
     "name": "stdout",
     "output_type": "stream",
     "text": [
      "\n",
      "    type : <class 'numpy.ndarray'>  \n",
      "    shape : (3, 3)  \n",
      "    dimension : 2  \n",
      "    dtype : float64\n",
      "    data :\n",
      " [[0.38439383 0.23731417 0.7241529 ]\n",
      " [0.99450266 0.12845633 0.73178641]\n",
      " [0.87525148 0.26432021 0.66015755]]\n",
      "    \n"
     ]
    },
    {
     "data": {
      "text/plain": [
       "array([[0.23731417, 0.38439383, 0.7241529 ],\n",
       "       [0.12845633, 0.73178641, 0.99450266],\n",
       "       [0.26432021, 0.66015755, 0.87525148]])"
      ]
     },
     "execution_count": 22,
     "metadata": {},
     "output_type": "execute_result"
    }
   ],
   "source": [
    "# 기본 방향(axis=-1) => 행별 정렬\n",
    "np_print(a)\n",
    "np.sort(a) # axis=-1"
   ]
  },
  {
   "cell_type": "code",
   "execution_count": 26,
   "id": "7f0ac0ea",
   "metadata": {},
   "outputs": [
    {
     "name": "stdout",
     "output_type": "stream",
     "text": [
      "\n",
      "    type : <class 'numpy.ndarray'>  \n",
      "    shape : (3, 3)  \n",
      "    dimension : 2  \n",
      "    dtype : float64\n",
      "    data :\n",
      " [[0.38439383 0.23731417 0.7241529 ]\n",
      " [0.99450266 0.12845633 0.73178641]\n",
      " [0.87525148 0.26432021 0.66015755]]\n",
      "    \n"
     ]
    },
    {
     "data": {
      "text/plain": [
       "array([[0.23731417, 0.38439383, 0.7241529 ],\n",
       "       [0.12845633, 0.73178641, 0.99450266],\n",
       "       [0.26432021, 0.66015755, 0.87525148]])"
      ]
     },
     "execution_count": 26,
     "metadata": {},
     "output_type": "execute_result"
    }
   ],
   "source": [
    "np_print(a)\n",
    "np.sort(a, axis=1)"
   ]
  },
  {
   "cell_type": "markdown",
   "id": "aaac4dba",
   "metadata": {},
   "source": [
    "#### axis=0 (열별 정렬)\n",
    "\n",
    "<img src='img/sortaxis0.jpg' width='200' height='200' align='left'>"
   ]
  },
  {
   "cell_type": "code",
   "execution_count": 23,
   "id": "b7034937",
   "metadata": {},
   "outputs": [
    {
     "name": "stdout",
     "output_type": "stream",
     "text": [
      "\n",
      "    type : <class 'numpy.ndarray'>  \n",
      "    shape : (3, 3)  \n",
      "    dimension : 2  \n",
      "    dtype : float64\n",
      "    data :\n",
      " [[0.38439383 0.23731417 0.7241529 ]\n",
      " [0.99450266 0.12845633 0.73178641]\n",
      " [0.87525148 0.26432021 0.66015755]]\n",
      "    \n"
     ]
    },
    {
     "data": {
      "text/plain": [
       "array([[0.38439383, 0.12845633, 0.66015755],\n",
       "       [0.87525148, 0.23731417, 0.7241529 ],\n",
       "       [0.99450266, 0.26432021, 0.73178641]])"
      ]
     },
     "execution_count": 23,
     "metadata": {},
     "output_type": "execute_result"
    }
   ],
   "source": [
    "# 열별 정렬을 시켜보세요.\n",
    "np_print(a)\n",
    "np.sort(a, axis=0)"
   ]
  },
  {
   "cell_type": "markdown",
   "id": "ee3821b3",
   "metadata": {},
   "source": [
    "## 인덱싱(Indexing), 슬라이싱(Slicing)\n",
    "\n",
    "### 1. 인덱싱 : 하나의 요소에 대해 참조\n",
    "- 각 차원에 따라 배열이 참조하는 인덱스의 개수가 다름\n",
    "    - 1차원 배열 : 인덱스 1개\n",
    "    - 2차원 배열 : 인덱스 2개\n",
    "    - 3차원 배열 : 인덱스 3개\n",
    "\n",
    "- 인덱싱으로 참조한 요소에 대해 수정 가능\n",
    "\n",
    "- 인덱스 배열을 전달하여 여러 개의 요소 참조"
   ]
  },
  {
   "cell_type": "code",
   "execution_count": 29,
   "id": "b0782bfc",
   "metadata": {},
   "outputs": [
    {
     "data": {
      "text/plain": [
       "array([ 0,  1,  2,  3,  4,  5,  6,  7,  8,  9, 10, 11, 12, 13, 14, 15, 16,\n",
       "       17, 18, 19, 20, 21, 22, 23])"
      ]
     },
     "execution_count": 29,
     "metadata": {},
     "output_type": "execute_result"
    }
   ],
   "source": [
    "# 0 ~ 23 구간으로 1씩 증가하는 값을 아이템으로 가지는 1차원 배열을 생성해주세요.\n",
    "arr1 = np.arange(0,24)\n",
    "arr1"
   ]
  },
  {
   "cell_type": "code",
   "execution_count": 30,
   "id": "33553063",
   "metadata": {},
   "outputs": [
    {
     "data": {
      "text/plain": [
       "1"
      ]
     },
     "execution_count": 30,
     "metadata": {},
     "output_type": "execute_result"
    }
   ],
   "source": [
    "# 1차원 배열 인덱싱 : 1차원 인덱스 요소 접근\n",
    "arr1[1]"
   ]
  },
  {
   "cell_type": "code",
   "execution_count": 31,
   "id": "bcc6d711",
   "metadata": {},
   "outputs": [
    {
     "data": {
      "text/plain": [
       "23"
      ]
     },
     "execution_count": 31,
     "metadata": {},
     "output_type": "execute_result"
    }
   ],
   "source": [
    "# 1차원 배열 인덱싱 : 마지막 요소 접근\n",
    "arr1[-1]"
   ]
  },
  {
   "cell_type": "code",
   "execution_count": 32,
   "id": "b3378c47",
   "metadata": {},
   "outputs": [
    {
     "data": {
      "text/plain": [
       "array([  0,   1,   2,   3,   4,   5,   6,   7,   8,   9,  10,  11,  12,\n",
       "        13,  14,  15,  16,  17,  18,  19,  20,  21,  22, 100])"
      ]
     },
     "execution_count": 32,
     "metadata": {},
     "output_type": "execute_result"
    }
   ],
   "source": [
    "# 1차원 배열 인덱싱을 통한 값 수정\n",
    "arr1[-1] = 100\n",
    "arr1"
   ]
  },
  {
   "cell_type": "code",
   "execution_count": null,
   "id": "b19c9a8b",
   "metadata": {},
   "outputs": [],
   "source": []
  },
  {
   "cell_type": "code",
   "execution_count": null,
   "id": "a04b5665",
   "metadata": {},
   "outputs": [],
   "source": []
  },
  {
   "cell_type": "code",
   "execution_count": null,
   "id": "6b0d3345",
   "metadata": {},
   "outputs": [],
   "source": []
  },
  {
   "cell_type": "code",
   "execution_count": null,
   "id": "e8b60397",
   "metadata": {},
   "outputs": [],
   "source": []
  },
  {
   "cell_type": "code",
   "execution_count": null,
   "id": "d8ede53a",
   "metadata": {},
   "outputs": [],
   "source": []
  },
  {
   "cell_type": "code",
   "execution_count": null,
   "id": "26ed038a",
   "metadata": {},
   "outputs": [],
   "source": []
  },
  {
   "cell_type": "code",
   "execution_count": null,
   "id": "85f8aba8",
   "metadata": {},
   "outputs": [],
   "source": []
  },
  {
   "cell_type": "code",
   "execution_count": null,
   "id": "aa42ab14",
   "metadata": {},
   "outputs": [],
   "source": []
  },
  {
   "cell_type": "code",
   "execution_count": null,
   "id": "ec042f64",
   "metadata": {},
   "outputs": [],
   "source": []
  },
  {
   "cell_type": "code",
   "execution_count": null,
   "id": "14114a8c",
   "metadata": {},
   "outputs": [],
   "source": []
  },
  {
   "cell_type": "code",
   "execution_count": null,
   "id": "b5fbea4b",
   "metadata": {},
   "outputs": [],
   "source": []
  },
  {
   "cell_type": "code",
   "execution_count": null,
   "id": "dbbae136",
   "metadata": {},
   "outputs": [],
   "source": []
  },
  {
   "cell_type": "code",
   "execution_count": null,
   "id": "56862cb0",
   "metadata": {},
   "outputs": [],
   "source": []
  },
  {
   "cell_type": "code",
   "execution_count": null,
   "id": "35aa20b2",
   "metadata": {},
   "outputs": [],
   "source": []
  },
  {
   "cell_type": "code",
   "execution_count": null,
   "id": "7972b2bd",
   "metadata": {},
   "outputs": [],
   "source": []
  },
  {
   "cell_type": "code",
   "execution_count": null,
   "id": "3cbd57cc",
   "metadata": {},
   "outputs": [],
   "source": []
  },
  {
   "cell_type": "code",
   "execution_count": null,
   "id": "da48ad6c",
   "metadata": {},
   "outputs": [],
   "source": []
  },
  {
   "cell_type": "code",
   "execution_count": null,
   "id": "bf9d05af",
   "metadata": {},
   "outputs": [],
   "source": []
  },
  {
   "cell_type": "code",
   "execution_count": null,
   "id": "9e914b03",
   "metadata": {},
   "outputs": [],
   "source": []
  },
  {
   "cell_type": "code",
   "execution_count": null,
   "id": "b21d467a",
   "metadata": {},
   "outputs": [],
   "source": []
  },
  {
   "cell_type": "code",
   "execution_count": null,
   "id": "45e59cd2",
   "metadata": {},
   "outputs": [],
   "source": []
  },
  {
   "cell_type": "code",
   "execution_count": null,
   "id": "a5a4ff27",
   "metadata": {},
   "outputs": [],
   "source": []
  },
  {
   "cell_type": "code",
   "execution_count": null,
   "id": "170ec773",
   "metadata": {},
   "outputs": [],
   "source": []
  },
  {
   "cell_type": "code",
   "execution_count": null,
   "id": "5ce8d95d",
   "metadata": {},
   "outputs": [],
   "source": []
  },
  {
   "cell_type": "code",
   "execution_count": null,
   "id": "d7d1b59a",
   "metadata": {},
   "outputs": [],
   "source": []
  },
  {
   "cell_type": "code",
   "execution_count": null,
   "id": "53ded0d0",
   "metadata": {},
   "outputs": [],
   "source": []
  },
  {
   "cell_type": "code",
   "execution_count": null,
   "id": "4611abf9",
   "metadata": {},
   "outputs": [],
   "source": []
  },
  {
   "cell_type": "code",
   "execution_count": null,
   "id": "0c3ac1d6",
   "metadata": {},
   "outputs": [],
   "source": []
  },
  {
   "cell_type": "code",
   "execution_count": null,
   "id": "f0d8ea98",
   "metadata": {},
   "outputs": [],
   "source": []
  },
  {
   "cell_type": "code",
   "execution_count": null,
   "id": "1785876e",
   "metadata": {},
   "outputs": [],
   "source": []
  },
  {
   "cell_type": "code",
   "execution_count": null,
   "id": "a5cb50b6",
   "metadata": {},
   "outputs": [],
   "source": []
  },
  {
   "cell_type": "code",
   "execution_count": null,
   "id": "dbac4350",
   "metadata": {},
   "outputs": [],
   "source": []
  },
  {
   "cell_type": "code",
   "execution_count": null,
   "id": "d8b12669",
   "metadata": {},
   "outputs": [],
   "source": []
  },
  {
   "cell_type": "code",
   "execution_count": null,
   "id": "1a616f5e",
   "metadata": {},
   "outputs": [],
   "source": []
  }
 ],
 "metadata": {
  "kernelspec": {
   "display_name": "Python 3 (ipykernel)",
   "language": "python",
   "name": "python3"
  },
  "language_info": {
   "codemirror_mode": {
    "name": "ipython",
    "version": 3
   },
   "file_extension": ".py",
   "mimetype": "text/x-python",
   "name": "python",
   "nbconvert_exporter": "python",
   "pygments_lexer": "ipython3",
   "version": "3.9.12"
  }
 },
 "nbformat": 4,
 "nbformat_minor": 5
}
