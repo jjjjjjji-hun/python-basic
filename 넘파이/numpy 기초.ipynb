{
 "cells": [
  {
   "cell_type": "markdown",
   "id": "11750e54",
   "metadata": {},
   "source": [
    "# Numpy\n",
    "\n",
    "- Numeriacal Python\n",
    "\n",
    "- 파이썬 머신러닝 패키지인 scikit-learn에서 기본 데이터 구조로 사용되어 Numpy 배열 형태의 데이터를 사용\n",
    "\n",
    "- 파이썬 기반 데이터 분석 환경에서 행렬 및 벡터 연산에 필요한 다양한 함수를 제공\n",
    "\n",
    "- 메모리 소모가 많은 반복문 없이 전체 데이터 배열에 빠른 연산을 처리할 수 있는 표준 수학 함수\n",
    "\n",
    "> 배열 : 동일한 특성(데이터 타입) 및 일정한 규칙을 가지는 여러 개의 요소가 나열되어 있는 데이터 집합\n",
    "\n",
    "- 파이썬 list 객체를 사용할 때 보다 Numpy의 ndarray 객체를 사용하면 연산 속도가 개선되어 더 많은 데이터를 더 빠르게 처리"
   ]
  },
  {
   "cell_type": "code",
   "execution_count": 11,
   "id": "c6861165",
   "metadata": {},
   "outputs": [],
   "source": [
    "# 라이브러리 가져오기 : Numpy\n",
    "# as 별칭 선언 이후에는 별칭으로 해당 라이브러리의 기능을 쓸 수 있다.\n",
    "# import 라이브러리명 as 별칭\n",
    "import numpy as np"
   ]
  },
  {
   "cell_type": "code",
   "execution_count": 12,
   "id": "43a64a66",
   "metadata": {},
   "outputs": [
    {
     "name": "stdout",
     "output_type": "stream",
     "text": [
      "1.20.3 1.20.3\n"
     ]
    },
    {
     "data": {
      "text/plain": [
       "'1.20.3'"
      ]
     },
     "execution_count": 12,
     "metadata": {},
     "output_type": "execute_result"
    }
   ],
   "source": [
    "# 라이브러리 버전 확인하기\n",
    "a = numpy.__version__\n",
    "b = np.__version__\n",
    "print(a, b)\n",
    "np.__version__"
   ]
  },
  {
   "cell_type": "markdown",
   "id": "3cd0cd82",
   "metadata": {},
   "source": [
    "## Numpy 배열 : numpy.ndarray\n",
    "\n",
    "- 다차원 배열(1차원, 2차원, 3차원)으로 입체적인 데이터 구조를 구성하고 여러 개의 데이터 방향을 가진다.\n",
    "\n",
    "- 배열 속성 : shape, ndim, dtype 등\n",
    "\n",
    "- 데이터 방향 : axis = 0(행/높이), 1(열/폭), 2(채널/깊이)\n",
    "\n",
    "사진을 집어넣을때는 img태그 를 사용합니다.\n",
    "<img src='img/nparr1.jpg' width='600' height='400' align='left'>"
   ]
  },
  {
   "cell_type": "markdown",
   "id": "1bd2b2b9",
   "metadata": {},
   "source": [
    "### 1. 배열 생성\n",
    "\n",
    "- np.array(data)\n",
    "\n",
    "    - 파이썬 list객체를 전달받아 numpy list로 교환해주는 명령어\n",
    "    \n",
    "    - 배열 속성\n",
    "        - shape : 구조 (행, 열, 차원)\n",
    "        - ndim : 차원\n",
    "        - dtype : 데이터 타입\n",
    "        - size : 요소 개수 = 행 * 열 * 차원\n",
    "        \n",
    "    - 배열 메서드\n",
    "        - astype() : 데이터 타입 변환(문자를 숫자로 라던지...)\n",
    "        \n",
    "    - 파이썬 내장함수를 사용한 속성값\n",
    "        - type() : 객체의 자료형 확인\n",
    "        - len() : 요소 내부의 자료 길이.\n",
    "        \n",
    "    - Numpy 함수를 사용한 속성\n",
    "        - reshape(row, column) : 배열 재배치(1 * 12를 3 * 4 형태로 바꾼다던지...)\n",
    "        \n",
    "    - kind : 데이터 종류에 대한 구분 기호\n",
    "        - b boolean\n",
    "        - i 정수(int)\n",
    "        - u 부호없는 정수(unsigned int, +- 개념 없이 절대값만 존재)\n",
    "        - f 실수\n",
    "        - c 복소 부동소수점\n",
    "        - O 객체\n",
    "        - S 바이트 문자열(ascii 코드, 영문자, 일부특문, 숫자)\n",
    "        - U 유니코드 문자열(한글, 중국어, 태국어, 아랍어 등 영어와 다른 문자)"
   ]
  },
  {
   "cell_type": "code",
   "execution_count": 13,
   "id": "4d44f2e0",
   "metadata": {},
   "outputs": [
    {
     "data": {
      "text/plain": [
       "array([1, 2, 3, 4, 5, 6])"
      ]
     },
     "execution_count": 13,
     "metadata": {},
     "output_type": "execute_result"
    }
   ],
   "source": [
    "# 파이썬 1차원리스트를 Numpy배열로 교환하기\n",
    "tmp = [1, 2, 3, 4, 5, 6]\n",
    "arr = np.array(tmp)\n",
    "arr"
   ]
  },
  {
   "cell_type": "code",
   "execution_count": 14,
   "id": "cd44440e",
   "metadata": {},
   "outputs": [
    {
     "name": "stdout",
     "output_type": "stream",
     "text": [
      "<class 'numpy.ndarray'> <class 'list'>\n"
     ]
    }
   ],
   "source": [
    "# 배열 객체의 속성 - 타입(자료형)\n",
    "print(type(arr), type(tmp))"
   ]
  },
  {
   "cell_type": "code",
   "execution_count": 15,
   "id": "8d386412",
   "metadata": {},
   "outputs": [
    {
     "data": {
      "text/plain": [
       "(6,)"
      ]
     },
     "execution_count": 15,
     "metadata": {},
     "output_type": "execute_result"
    }
   ],
   "source": [
    "# 배열 객체의 속성 : 구조 확인하기 - shape(행(row), 열(column), 차원(면))\n",
    "# (w정수,) : 정수개수의 아이템을 가진 리스트가 배열로 변환된 결과물\n",
    "arr.shape"
   ]
  },
  {
   "cell_type": "code",
   "execution_count": 16,
   "id": "191b61dc",
   "metadata": {},
   "outputs": [
    {
     "data": {
      "text/plain": [
       "6"
      ]
     },
     "execution_count": 16,
     "metadata": {},
     "output_type": "execute_result"
    }
   ],
   "source": [
    "# 배열 객체의 속성 : 길이 => (n,)\n",
    "# [1Darray] : 아이템의 개수\n",
    "len(arr)"
   ]
  },
  {
   "cell_type": "code",
   "execution_count": 17,
   "id": "a4055dd8",
   "metadata": {},
   "outputs": [
    {
     "data": {
      "text/plain": [
       "1"
      ]
     },
     "execution_count": 17,
     "metadata": {},
     "output_type": "execute_result"
    }
   ],
   "source": [
    "# 배열 객체의 속성 : 차원\n",
    "arr.ndim"
   ]
  },
  {
   "cell_type": "code",
   "execution_count": 18,
   "id": "f34adad7",
   "metadata": {},
   "outputs": [
    {
     "data": {
      "text/plain": [
       "6"
      ]
     },
     "execution_count": 18,
     "metadata": {},
     "output_type": "execute_result"
    }
   ],
   "source": [
    "# 베열 요소의 속성 - 요소 갯수\n",
    "arr.size"
   ]
  },
  {
   "cell_type": "code",
   "execution_count": 19,
   "id": "779b5b9f",
   "metadata": {},
   "outputs": [],
   "source": [
    "# 배열 객체의 속성 - 데이터 타입의 변환 : astype => 원본 데이터 유지\n",
    "arr2 = arr.astype(float)"
   ]
  },
  {
   "cell_type": "code",
   "execution_count": 20,
   "id": "dbd59109",
   "metadata": {},
   "outputs": [
    {
     "name": "stdout",
     "output_type": "stream",
     "text": [
      "int32 float64\n"
     ]
    }
   ],
   "source": [
    "print(arr.dtype, arr2.dtype)"
   ]
  },
  {
   "cell_type": "code",
   "execution_count": 21,
   "id": "c5ce927f",
   "metadata": {},
   "outputs": [
    {
     "data": {
      "text/plain": [
       "array([1., 2., 3., 4., 5., 6.])"
      ]
     },
     "execution_count": 21,
     "metadata": {},
     "output_type": "execute_result"
    }
   ],
   "source": [
    "arr2"
   ]
  },
  {
   "cell_type": "code",
   "execution_count": 22,
   "id": "a8c42bb9",
   "metadata": {},
   "outputs": [
    {
     "data": {
      "text/plain": [
       "array([[1, 2, 3],\n",
       "       [4, 5, 6]])"
      ]
     },
     "execution_count": 22,
     "metadata": {},
     "output_type": "execute_result"
    }
   ],
   "source": [
    "# 배열 구조 변환\n",
    "# 기본 배열의 요소 중 개수(6개)와 변환하려는 구조의 총개수(6개)는 일치해야한다.\n",
    "arr.reshape(2, 3) # 2 * 3이 6개 이므로 가능, reshape(row, column)"
   ]
  },
  {
   "cell_type": "code",
   "execution_count": 23,
   "id": "503102af",
   "metadata": {},
   "outputs": [],
   "source": [
    "# numpy 객체 정보를 좀 더 편하게 확인하기 위한 사용자 함수 정의\n",
    "# 객체타입, 구조, 차원, 데이터타입, 내부자료\n",
    "# 를 확인하기 위해 커스텀 함수를 정의합니다.(기본기능이 아님)\n",
    "def np_print(arr):\n",
    "    text = '''\n",
    "    type :%s\n",
    "    shape : %s\n",
    "    ndim : %s\n",
    "    dtype : %s\n",
    "    array data : \\n %s''' % (type(arr), arr.shape, arr.ndim, arr.dtype, arr)\n",
    "    print(text)"
   ]
  },
  {
   "cell_type": "code",
   "execution_count": 24,
   "id": "b57f7592",
   "metadata": {},
   "outputs": [
    {
     "data": {
      "text/plain": [
       "array(['1', '2', '3', '4'], dtype='<U11')"
      ]
     },
     "execution_count": 24,
     "metadata": {},
     "output_type": "execute_result"
    }
   ],
   "source": [
    "# 리스트 요소 타입이 일관되지 않으면 우선순위에 따라 내부 데이터의 dtype이 통일된다.\n",
    "# 우선순위 : str(가장 높음) > float > int(가장 낮음)\n",
    "# 서로 다른 타입의 혼합 1 : int + str = str\n",
    "tmp = [1, 2, 3, '4']\n",
    "tmp\n",
    "arr1 = np.array(tmp)\n",
    "arr1"
   ]
  },
  {
   "cell_type": "code",
   "execution_count": 25,
   "id": "e31c663f",
   "metadata": {},
   "outputs": [
    {
     "name": "stdout",
     "output_type": "stream",
     "text": [
      "\n",
      "    type :<class 'numpy.ndarray'>\n",
      "    shape : (4,)\n",
      "    ndim : 1\n",
      "    dtype : <U11\n",
      "    array data : \n",
      " ['1' '2' '3' '4']\n"
     ]
    }
   ],
   "source": [
    "np_print(arr1)"
   ]
  },
  {
   "cell_type": "code",
   "execution_count": 26,
   "id": "d965209e",
   "metadata": {},
   "outputs": [
    {
     "name": "stdout",
     "output_type": "stream",
     "text": [
      "\n",
      "    type :<class 'numpy.ndarray'>\n",
      "    shape : (4,)\n",
      "    ndim : 1\n",
      "    dtype : float64\n",
      "    array data : \n",
      " [1.  2.  3.3 4. ]\n"
     ]
    }
   ],
   "source": [
    "# 서로 다른 타입 혼합 2 : int + float = float\n",
    "tmp = [1, 2, 3.3, 4]\n",
    "arr = np.array(tmp)\n",
    "np_print(arr)"
   ]
  },
  {
   "cell_type": "code",
   "execution_count": 27,
   "id": "70bf1c92",
   "metadata": {},
   "outputs": [
    {
     "name": "stdout",
     "output_type": "stream",
     "text": [
      "\n",
      "    type :<class 'numpy.ndarray'>\n",
      "    shape : (3,)\n",
      "    ndim : 1\n",
      "    dtype : <U32\n",
      "    array data : \n",
      " ['1' '1.2' '0.3']\n"
     ]
    }
   ],
   "source": [
    "# 서로 다른 타입 혼합 3 : float + str = str\n",
    "tmp = ['1', 1.2, 0.3]\n",
    "arr = np.array(tmp)\n",
    "np_print(arr)"
   ]
  },
  {
   "cell_type": "code",
   "execution_count": 28,
   "id": "6aebebae",
   "metadata": {},
   "outputs": [
    {
     "name": "stdout",
     "output_type": "stream",
     "text": [
      "\n",
      "    type :<class 'numpy.ndarray'>\n",
      "    shape : (2, 4)\n",
      "    ndim : 2\n",
      "    dtype : int32\n",
      "    array data : \n",
      " [[1 2 3 4]\n",
      " [5 6 7 8]]\n"
     ]
    }
   ],
   "source": [
    "# 파이썬 2차원 리스트로 Numpy 배열 생성\n",
    "# 2차원 배열의 shape 속성은(행(row, 세로축개수), 열(column, 가로축개수)) 만 반환\n",
    "tmp = [[1, 2, 3, 4],\n",
    "      [5, 6, 7, 8]]\n",
    "arr = np.array(tmp)\n",
    "np_print(arr)"
   ]
  },
  {
   "cell_type": "code",
   "execution_count": 29,
   "id": "1793615b",
   "metadata": {},
   "outputs": [
    {
     "name": "stdout",
     "output_type": "stream",
     "text": [
      "\n",
      "    type :<class 'numpy.ndarray'>\n",
      "    shape : (2, 2, 3)\n",
      "    ndim : 3\n",
      "    dtype : int32\n",
      "    array data : \n",
      " [[[ 1  2  3]\n",
      "  [ 4  5  6]]\n",
      "\n",
      " [[ 7  8  9]\n",
      "  [10 11 12]]]\n"
     ]
    }
   ],
   "source": [
    "# 파이썬 3차원 리스트로 Numpy 배열 생성\n",
    "tmp = [[[1, 2 , 3], [4, 5, 6]],\n",
    "      [[7, 8, 9], [10, 11, 12]]]\n",
    "arr = np.array(tmp)\n",
    "np_print(arr)"
   ]
  },
  {
   "cell_type": "code",
   "execution_count": 30,
   "id": "06867664",
   "metadata": {},
   "outputs": [],
   "source": [
    "# 위의 arr의 타입을 실수로 바꾼다음\n",
    "# np_print로 확인해주세요."
   ]
  },
  {
   "cell_type": "code",
   "execution_count": 31,
   "id": "fa46ccfb",
   "metadata": {},
   "outputs": [
    {
     "name": "stdout",
     "output_type": "stream",
     "text": [
      "\n",
      "    type :<class 'numpy.ndarray'>\n",
      "    shape : (2, 2, 3)\n",
      "    ndim : 3\n",
      "    dtype : float64\n",
      "    array data : \n",
      " [[[ 1.  2.  3.]\n",
      "  [ 4.  5.  6.]]\n",
      "\n",
      " [[ 7.  8.  9.]\n",
      "  [10. 11. 12.]]]\n"
     ]
    }
   ],
   "source": [
    "arrF = arr.astype(float)\n",
    "np_print(arrF)"
   ]
  },
  {
   "cell_type": "markdown",
   "id": "12fe9d61",
   "metadata": {},
   "source": [
    "### 생성 및 초기화\n",
    "\n",
    "1. 초기값을 지정하여 데이터를 자동으로 가지는 배열을 생성\n",
    "\n",
    "    - np.zeros()\n",
    "    - np.ones()\n",
    "    - np.full()\n",
    "    - np.eye()\n",
    "    - np.empty()"
   ]
  },
  {
   "cell_type": "markdown",
   "id": "e1492dda",
   "metadata": {},
   "source": [
    "#### 1-1. np.zeros(shape(모양), dtype=float)\n",
    "\n",
    "- 지정된 구조의 배열을 생성하고 모든 요소를 0으로 초기화(zeros)\n",
    "- shape : tuple형태로 행, 열을 지정\n",
    "- dtype : 배열에서 사용하는 데이터 타입을 지정, 기본값은 numpy.float64"
   ]
  },
  {
   "cell_type": "code",
   "execution_count": 32,
   "id": "12a0c2a8",
   "metadata": {},
   "outputs": [
    {
     "name": "stdout",
     "output_type": "stream",
     "text": [
      "\n",
      "    type :<class 'numpy.ndarray'>\n",
      "    shape : (3, 4)\n",
      "    ndim : 2\n",
      "    dtype : float64\n",
      "    array data : \n",
      " [[0. 0. 0. 0.]\n",
      " [0. 0. 0. 0.]\n",
      " [0. 0. 0. 0.]]\n"
     ]
    }
   ],
   "source": [
    "# 3행 4열 구조 안에서 초기값을 모두 0으로 가지는 배열\n",
    "arr = np.zeros((3, 4))\n",
    "np_print(arr)"
   ]
  },
  {
   "cell_type": "markdown",
   "id": "d4610ae6",
   "metadata": {},
   "source": [
    "#### 1-2. np.ones(shape(행, 열), dtype=float)\n",
    "- 지정된 구조의 배열을 생성하고 모든 요소를 1로 초기화(ones)\n",
    "- shape : tuple 자료로 행, 열 구조를 지정\n",
    "- dtype : 배열의 데이터 타입을 지정, 기본값 = numpy.float64"
   ]
  },
  {
   "cell_type": "code",
   "execution_count": 33,
   "id": "05463d2d",
   "metadata": {},
   "outputs": [
    {
     "name": "stdout",
     "output_type": "stream",
     "text": [
      "\n",
      "    type :<class 'numpy.ndarray'>\n",
      "    shape : (3, 4)\n",
      "    ndim : 2\n",
      "    dtype : float64\n",
      "    array data : \n",
      " [[1. 1. 1. 1.]\n",
      " [1. 1. 1. 1.]\n",
      " [1. 1. 1. 1.]]\n"
     ]
    }
   ],
   "source": [
    "# 3행 4열 구조 안에서 초기값을 모두 1로 가지는 배열\n",
    "arr = np.ones((3, 4))\n",
    "np_print(arr)"
   ]
  },
  {
   "cell_type": "markdown",
   "id": "3c34f2e8",
   "metadata": {},
   "source": [
    "#### 1-3. np.full(shape, fill_value, dtype)\n",
    "- 지정된 구조의 배열을 생성하고 모든 요소를 fill_value 값으로 초기화\n",
    "- shape : tuple 자료형으로 행, 열 구조를 지정\n",
    "- dtype : 배열의 데이터 타입을 지정, 기본값 = 들어오는 데이터의 자료형"
   ]
  },
  {
   "cell_type": "code",
   "execution_count": 34,
   "id": "5ab65a73",
   "metadata": {},
   "outputs": [
    {
     "name": "stdout",
     "output_type": "stream",
     "text": [
      "\n",
      "    type :<class 'numpy.ndarray'>\n",
      "    shape : (3, 4)\n",
      "    ndim : 2\n",
      "    dtype : int32\n",
      "    array data : \n",
      " [[5 5 5 5]\n",
      " [5 5 5 5]\n",
      " [5 5 5 5]]\n"
     ]
    }
   ],
   "source": [
    "# 3행 4열 구조 안에서 초기값을 모두 5로 가지는 배열\n",
    "arr = np.full((3, 4), 5)\n",
    "np_print(arr)"
   ]
  },
  {
   "cell_type": "markdown",
   "id": "b1ae824b",
   "metadata": {},
   "source": [
    "#### 1-4. np.eye(N, M = None, dtype=float)\n",
    "- (N, M) 구조의 단위 행렬을 생성\n",
    "- M : 열 개수를 지정, 기본값 = N\n",
    "- dtype : 배열을 데이터 타입을 지정, 기본값 = numpy.float64"
   ]
  },
  {
   "cell_type": "code",
   "execution_count": 35,
   "id": "02d08298",
   "metadata": {},
   "outputs": [
    {
     "name": "stdout",
     "output_type": "stream",
     "text": [
      "\n",
      "    type :<class 'numpy.ndarray'>\n",
      "    shape : (3, 3)\n",
      "    ndim : 2\n",
      "    dtype : float64\n",
      "    array data : \n",
      " [[1. 0. 0.]\n",
      " [0. 1. 0.]\n",
      " [0. 0. 1.]]\n"
     ]
    }
   ],
   "source": [
    "# 3행 3열의 단위행렬\n",
    "arr = np.eye(3)\n",
    "np_print(arr)"
   ]
  },
  {
   "cell_type": "code",
   "execution_count": 36,
   "id": "20f06464",
   "metadata": {},
   "outputs": [
    {
     "name": "stdout",
     "output_type": "stream",
     "text": [
      "\n",
      "    type :<class 'numpy.ndarray'>\n",
      "    shape : (5, 3)\n",
      "    ndim : 2\n",
      "    dtype : float64\n",
      "    array data : \n",
      " [[1. 0. 0.]\n",
      " [0. 1. 0.]\n",
      " [0. 0. 1.]\n",
      " [0. 0. 0.]\n",
      " [0. 0. 0.]]\n"
     ]
    }
   ],
   "source": [
    "# 세로길이 5(row5개), 가로길이 3(column 3개)인 단위행렬을 .eye()로 만들기\n",
    "arr= np.eye(5, 3)\n",
    "np_print(arr)"
   ]
  },
  {
   "cell_type": "markdown",
   "id": "81f65995",
   "metadata": {},
   "source": [
    "#### 1-5. np.empty(shape, dtype=float)\n",
    "- 지정된 구조의 배열을 생성하고 모든 요소에 대한 초기화 과정 없이 직전 메모리에 저장된 값을 사용\n",
    "- 배열을 생성하는데 가장 빠르고 효율적인 방법\n",
    "- shape : tuple type으로 행, 열, 구조를 지정\n",
    "- dtype : 배열의 데이터 타입을 지정, 기본값 = numpy.float64"
   ]
  },
  {
   "cell_type": "code",
   "execution_count": 37,
   "id": "aaa34976",
   "metadata": {},
   "outputs": [
    {
     "name": "stdout",
     "output_type": "stream",
     "text": [
      "\n",
      "    type :<class 'numpy.ndarray'>\n",
      "    shape : (5, 3)\n",
      "    ndim : 2\n",
      "    dtype : float64\n",
      "    array data : \n",
      " [[1. 0. 0.]\n",
      " [0. 1. 0.]\n",
      " [0. 0. 1.]\n",
      " [0. 0. 0.]\n",
      " [0. 0. 0.]]\n"
     ]
    }
   ],
   "source": [
    "# 직전에 메모리에 저장된 값을 사용하기 위해서는 직전에 만들었던 것과 동일한\n",
    "# shape의 배열을 생성해야 한다.\n",
    "# 3행 4열의 구조 => 직전에 만든적이 없어서 이상한 값이 들어옴\n",
    "# 5행 3열의 구조 => 방금 만든 단위행렬이 다시 복구됨\n",
    "arr = np.empty((5, 3))\n",
    "np_print(arr)"
   ]
  },
  {
   "cell_type": "markdown",
   "id": "88378d23",
   "metadata": {},
   "source": [
    "### like 함수\n",
    "\n",
    "- 전달받은 배열과 동일한 shape으로 초기값을 설정하여 새로운 배열을 생성\n",
    "\n",
    "    - np.zeros_like() : 초기값을 0으로 가지는 배열 생성\n",
    "    \n",
    "    - np.ones_like() : 초기값을 1로 가지는 배열 생성\n",
    "    \n",
    "    - np.full_like() : 초기값을 fill_vlaue 값으로 가지는 배열 생성"
   ]
  },
  {
   "cell_type": "code",
   "execution_count": 38,
   "id": "c5430d9a",
   "metadata": {},
   "outputs": [
    {
     "name": "stdout",
     "output_type": "stream",
     "text": [
      "\n",
      "    type :<class 'numpy.ndarray'>\n",
      "    shape : (2, 3)\n",
      "    ndim : 2\n",
      "    dtype : int32\n",
      "    array data : \n",
      " [[1 2 3]\n",
      " [4 5 6]]\n"
     ]
    }
   ],
   "source": [
    "# ones_like\n",
    "# 2행 3열의 구조에서 1~6 숫자로 구성된 배열\n",
    "data = [[1, 2, 3], \n",
    "        [4, 5, 6]]\n",
    "arr1 = np.array(data)\n",
    "np_print(arr1)"
   ]
  },
  {
   "cell_type": "code",
   "execution_count": 39,
   "id": "7f6618c2",
   "metadata": {},
   "outputs": [
    {
     "name": "stdout",
     "output_type": "stream",
     "text": [
      "\n",
      "    type :<class 'numpy.ndarray'>\n",
      "    shape : (2, 3)\n",
      "    ndim : 2\n",
      "    dtype : int32\n",
      "    array data : \n",
      " [[1 1 1]\n",
      " [1 1 1]]\n"
     ]
    }
   ],
   "source": [
    "arr2 = np.ones_like(arr1)\n",
    "np_print(arr2)"
   ]
  },
  {
   "cell_type": "code",
   "execution_count": 40,
   "id": "7de77745",
   "metadata": {},
   "outputs": [
    {
     "name": "stdout",
     "output_type": "stream",
     "text": [
      "\n",
      "    type :<class 'numpy.ndarray'>\n",
      "    shape : (2, 3)\n",
      "    ndim : 2\n",
      "    dtype : int32\n",
      "    array data : \n",
      " [[5 5 5]\n",
      " [5 5 5]]\n"
     ]
    }
   ],
   "source": [
    "arr2 = np.full_like(arr1, 5)\n",
    "np_print(arr2)"
   ]
  },
  {
   "cell_type": "code",
   "execution_count": 41,
   "id": "97cfb893",
   "metadata": {},
   "outputs": [
    {
     "name": "stdout",
     "output_type": "stream",
     "text": [
      "\n",
      "    type :<class 'numpy.ndarray'>\n",
      "    shape : (2, 3)\n",
      "    ndim : 2\n",
      "    dtype : int32\n",
      "    array data : \n",
      " [[0 0 0]\n",
      " [0 0 0]]\n"
     ]
    }
   ],
   "source": [
    "arr2 = np.zeros_like(arr1)\n",
    "np_print(arr2)"
   ]
  },
  {
   "cell_type": "markdown",
   "id": "796bdbdf",
   "metadata": {},
   "source": [
    "### Ⅱ. 배열 생성 및 초기화\n",
    "\n",
    "2. 범위와 조건이 있는 데이터를 가지는 1차원 배열 생성\n",
    "    - np.linspace()\n",
    "    \n",
    "    - np.arange()\n",
    "    \n",
    "    - np.logspace()\n",
    "\n",
    "#### 2-1. np.linspace(start, stop, num=50, endpoint=True, retstep=False, dtype=None)\n",
    "\n",
    "- 시작값(start)부터 마지막값(stop) 사이의 범위에서 균등한 간격으로 일정 개수(num)개의 데이터를 가지는 배열 생성\n",
    "\n",
    "- num : 데이터 개수, 기본값 = 50\n",
    "\n",
    "- endpoint : 마지막값에 stop을 포함/제외하는 조건 지정, 기본값 = True(포함)\n",
    "\n",
    "- retstep : True로 전달하면 (배열, 데이터 사이의 간격)의 데이터를 담은 tuple을 반환\n",
    "\n",
    "- dtype : 배열의 데이터 타입을 지정, 기본값 = None"
   ]
  },
  {
   "cell_type": "code",
   "execution_count": 42,
   "id": "55fb09ea",
   "metadata": {},
   "outputs": [
    {
     "name": "stdout",
     "output_type": "stream",
     "text": [
      "\n",
      "    type :<class 'numpy.ndarray'>\n",
      "    shape : (5,)\n",
      "    ndim : 1\n",
      "    dtype : float64\n",
      "    array data : \n",
      " [0.   0.25 0.5  0.75 1.  ]\n"
     ]
    }
   ],
   "source": [
    "# 기본값\n",
    "# 0 이상 1이하의 범위에서 발생한 숫자 5개를 포함하는 배열\n",
    "arr = np.linspace(0, 1, num=5)\n",
    "np_print(arr)"
   ]
  },
  {
   "cell_type": "code",
   "execution_count": 43,
   "id": "43990577",
   "metadata": {},
   "outputs": [
    {
     "name": "stdout",
     "output_type": "stream",
     "text": [
      "\n",
      "    type :<class 'numpy.ndarray'>\n",
      "    shape : (5,)\n",
      "    ndim : 1\n",
      "    dtype : float64\n",
      "    array data : \n",
      " [0.  0.2 0.4 0.6 0.8]\n"
     ]
    }
   ],
   "source": [
    "# endpoint를 False로 변환\n",
    "arr = np.linspace(0, 1, num=5, endpoint=False)\n",
    "np_print(arr)"
   ]
  },
  {
   "cell_type": "code",
   "execution_count": 44,
   "id": "c1dbf111",
   "metadata": {},
   "outputs": [
    {
     "name": "stdout",
     "output_type": "stream",
     "text": [
      "(array([0.  , 0.25, 0.5 , 0.75, 1.  ]), 0.25)\n",
      "\n",
      "    type :<class 'numpy.ndarray'>\n",
      "    shape : (5,)\n",
      "    ndim : 1\n",
      "    dtype : float64\n",
      "    array data : \n",
      " [0.   0.25 0.5  0.75 1.  ]\n"
     ]
    }
   ],
   "source": [
    "# retstep 설정 -> 반환 값 tuple => (배열객체, 간격값)\n",
    "arr = np.linspace(0, 1, num=5, retstep=True)\n",
    "print(arr)\n",
    "np_print(arr[0])"
   ]
  },
  {
   "cell_type": "markdown",
   "id": "7b7577af",
   "metadata": {},
   "source": [
    "#### 2-1. np.arange(start=0, stop, step=1, dtype=None)\n",
    "\n",
    "- 시작값(start)부터 마지막값(stop) 사이의 범위에서 지정한 간격(step)으로 일정 개수(num)개의 데이터를 가지는 배열 생성\n",
    "- 파이썬 내장함수 range()와 유사\n",
    "- start : 시작값, 기본값 = 0\n",
    "- stop : 마지막값으로 범위에 포함되지 않음\n",
    "- step : 데이터 사이의 간격, 기본값 = 1\n",
    "- dtype : 배열의 데이터 타입을 지정, 기본값 = None"
   ]
  },
  {
   "cell_type": "code",
   "execution_count": 45,
   "id": "8cdc9b01",
   "metadata": {},
   "outputs": [
    {
     "data": {
      "text/plain": [
       "[0, 1, 2, 3, 4]"
      ]
     },
     "execution_count": 45,
     "metadata": {},
     "output_type": "execute_result"
    }
   ],
   "source": [
    "list(range(5))"
   ]
  },
  {
   "cell_type": "code",
   "execution_count": 46,
   "id": "ca35f6db",
   "metadata": {},
   "outputs": [
    {
     "name": "stdout",
     "output_type": "stream",
     "text": [
      "\n",
      "    type :<class 'numpy.ndarray'>\n",
      "    shape : (5,)\n",
      "    ndim : 1\n",
      "    dtype : int32\n",
      "    array data : \n",
      " [0 1 2 3 4]\n"
     ]
    }
   ],
   "source": [
    "# 기본값\n",
    "# 0이상 5미만의 범위에서 1씩 증가하는 숫자(정수)를 가지는 배열\n",
    "arr = np.arange(5)\n",
    "np_print(arr)"
   ]
  },
  {
   "cell_type": "code",
   "execution_count": 47,
   "id": "8dd5cc72",
   "metadata": {},
   "outputs": [
    {
     "name": "stdout",
     "output_type": "stream",
     "text": [
      "\n",
      "    type :<class 'numpy.ndarray'>\n",
      "    shape : (10,)\n",
      "    ndim : 1\n",
      "    dtype : float64\n",
      "    array data : \n",
      " [0.  0.5 1.  1.5 2.  2.5 3.  3.5 4.  4.5]\n"
     ]
    }
   ],
   "source": [
    "# 시작, 끝, 간격\n",
    "# 0이상 5미만의 범위에서 0.5씩 증가하는 숫자를 가지는 배열\n",
    "arr = np.arange(0, 5, 0.5)\n",
    "np_print(arr)"
   ]
  },
  {
   "cell_type": "code",
   "execution_count": 48,
   "id": "14208787",
   "metadata": {},
   "outputs": [
    {
     "name": "stdout",
     "output_type": "stream",
     "text": [
      "\n",
      "    type :<class 'numpy.ndarray'>\n",
      "    shape : (4,)\n",
      "    ndim : 1\n",
      "    dtype : int32\n",
      "    array data : \n",
      " [1 2 3 4]\n"
     ]
    }
   ],
   "source": [
    "# arange() 메서드로 생성된 배열과 shape(1, 5)인 배열은 동일해보이지만\n",
    "# shape와 dimention이 서로 다르다. arange는 1차원\n",
    "arr = np.arange(1, 5)\n",
    "np_print(arr)"
   ]
  },
  {
   "cell_type": "code",
   "execution_count": 49,
   "id": "a15a038b",
   "metadata": {},
   "outputs": [
    {
     "name": "stdout",
     "output_type": "stream",
     "text": [
      "\n",
      "    type :<class 'numpy.ndarray'>\n",
      "    shape : (1, 4)\n",
      "    ndim : 2\n",
      "    dtype : int32\n",
      "    array data : \n",
      " [[1 2 3 4]]\n"
     ]
    }
   ],
   "source": [
    "arr2 = arr.reshape(1, 4) # shape는 다차원\n",
    "np_print(arr2)"
   ]
  },
  {
   "cell_type": "markdown",
   "id": "61bb73bb",
   "metadata": {},
   "source": [
    "#### 2-3. np.logspace(start, stop, num=50, endpoint=True, dtype=None)\\\n",
    "\n",
    "- 시작값(start)부터 마지막값(stop) 사이의 로그 스케일로 지정된 범위에서 균등한 간격으로 일정 개수(num)개의 데이터를 가지는 배열 생성\n",
    "\n",
    "- num : 데이터 개수, 기본값 = 50\n",
    "\n",
    "- endpoint : 마지막 값에 stop을 포함/제외하는 조건 지정, 기본값 = True(포함)\n",
    "\n",
    "- dtype \" 배열의 데이터 타입을 지정, 기본값 = None"
   ]
  },
  {
   "cell_type": "code",
   "execution_count": 50,
   "id": "6a3cf319",
   "metadata": {},
   "outputs": [
    {
     "name": "stdout",
     "output_type": "stream",
     "text": [
      "\n",
      "    type :<class 'numpy.ndarray'>\n",
      "    shape : (50,)\n",
      "    ndim : 1\n",
      "    dtype : float64\n",
      "    array data : \n",
      " [ 1.          1.04811313  1.09854114  1.1513954   1.20679264  1.26485522\n",
      "  1.32571137  1.38949549  1.45634848  1.52641797  1.59985872  1.67683294\n",
      "  1.75751062  1.84206997  1.93069773  2.02358965  2.12095089  2.22299648\n",
      "  2.32995181  2.44205309  2.55954792  2.6826958   2.8117687   2.9470517\n",
      "  3.0888436   3.23745754  3.39322177  3.55648031  3.72759372  3.90693994\n",
      "  4.09491506  4.29193426  4.49843267  4.71486636  4.94171336  5.17947468\n",
      "  5.42867544  5.68986603  5.96362332  6.25055193  6.55128557  6.86648845\n",
      "  7.19685673  7.54312006  7.90604321  8.28642773  8.68511374  9.10298178\n",
      "  9.54095476 10.        ]\n"
     ]
    }
   ],
   "source": [
    "# 기본값\n",
    "# 0 이상 1이하의 범위에서 로그스케일을 적용한 값(50개)을 가진 배열\n",
    "# 밑수가 10인 로그를 기준으로 만들어줌\n",
    "arr = np.logspace(0, 1)\n",
    "np_print(arr)"
   ]
  },
  {
   "cell_type": "code",
   "execution_count": 51,
   "id": "db3343d4",
   "metadata": {},
   "outputs": [
    {
     "name": "stdout",
     "output_type": "stream",
     "text": [
      "\n",
      "    type :<class 'numpy.ndarray'>\n",
      "    shape : (40,)\n",
      "    ndim : 1\n",
      "    dtype : float64\n",
      "    array data : \n",
      " [ 1.          1.06081836  1.12533558  1.19377664  1.26638017  1.34339933\n",
      "  1.42510267  1.51177507  1.60371874  1.70125428  1.80472177  1.91448198\n",
      "  2.03091762  2.15443469  2.28546386  2.42446202  2.57191381  2.72833338\n",
      "  2.89426612  3.07029063  3.25702066  3.45510729  3.66524124  3.88815518\n",
      "  4.12462638  4.37547938  4.64158883  4.92388263  5.22334507  5.54102033\n",
      "  5.87801607  6.23550734  6.61474064  7.01703829  7.44380301  7.89652287\n",
      "  8.3767764   8.88623816  9.42668455 10.        ]\n"
     ]
    }
   ],
   "source": [
    "# 시작, 끝, 개수\n",
    "arr = np.logspace(0, 1, 40)\n",
    "np_print(arr)"
   ]
  },
  {
   "cell_type": "code",
   "execution_count": 52,
   "id": "528343bd",
   "metadata": {},
   "outputs": [
    {
     "name": "stdout",
     "output_type": "stream",
     "text": [
      "\n",
      "    type :<class 'numpy.ndarray'>\n",
      "    shape : (40,)\n",
      "    ndim : 1\n",
      "    dtype : float64\n",
      "    array data : \n",
      " [1.         1.05925373 1.12201845 1.18850223 1.25892541 1.33352143\n",
      " 1.41253754 1.49623566 1.58489319 1.67880402 1.77827941 1.88364909\n",
      " 1.99526231 2.11348904 2.23872114 2.37137371 2.51188643 2.66072506\n",
      " 2.81838293 2.98538262 3.16227766 3.34965439 3.54813389 3.75837404\n",
      " 3.98107171 4.21696503 4.46683592 4.73151259 5.01187234 5.30884444\n",
      " 5.62341325 5.95662144 6.30957344 6.68343918 7.07945784 7.49894209\n",
      " 7.94328235 8.41395142 8.91250938 9.44060876]\n"
     ]
    }
   ],
   "source": [
    "# endpoint 설정\n",
    "arr = np.logspace(0, 1, 40, endpoint=False)\n",
    "np_print(arr)"
   ]
  },
  {
   "cell_type": "markdown",
   "id": "a9756cfe",
   "metadata": {},
   "source": [
    "### Ⅱ. 배열 생성 및 초기화\n",
    "\n",
    "3. 난수(특정한 순서나 규칙을 가지지 않는 무작위의 수)를 데이터로 가지는 배열을 생성\n",
    "    - np.random.normal()\n",
    "    \n",
    "    - np.random.rand()\n",
    "    \n",
    "    - np.random.randn()\n",
    "    \n",
    "    - np.random.randint()\n",
    "    \n",
    "    - np.random.random()\n",
    "    \n",
    "\n",
    "\n",
    "\n",
    "#### 3-1. np.random.normal(loc=0.0, scale=1.0, size=None)\n",
    "\n",
    "- 정규 분포 확률 밀도에서 표본을 추출하여 데이터로 가지는 배열을 생성\n",
    "\n",
    "- loc : 정규분포의 평균, 기본값 = 0.0\n",
    "\n",
    "- scale : 정규분포의 표준편차, 기본값 = 1.0\n",
    "\n",
    "- size : (행,열,차원)의 배열 구조, 기본값 = single value(배열이 아닌 하나의 값을 반환)"
   ]
  },
  {
   "cell_type": "code",
   "execution_count": 53,
   "id": "e2d7fe6d",
   "metadata": {},
   "outputs": [
    {
     "data": {
      "text/plain": [
       "0.707584598334627"
      ]
     },
     "execution_count": 53,
     "metadata": {},
     "output_type": "execute_result"
    }
   ],
   "source": [
    "# 기본값\n",
    "v = np.random.normal(0, 1)\n",
    "v"
   ]
  },
  {
   "cell_type": "code",
   "execution_count": 54,
   "id": "68f2f5a2",
   "metadata": {},
   "outputs": [
    {
     "name": "stdout",
     "output_type": "stream",
     "text": [
      "\n",
      "    type :<class 'numpy.ndarray'>\n",
      "    shape : (2, 3)\n",
      "    ndim : 2\n",
      "    dtype : float64\n",
      "    array data : \n",
      " [[-0.72509312 -0.0505535  -1.27201101]\n",
      " [ 0.10600196  1.30302505  0.43745011]]\n"
     ]
    }
   ],
   "source": [
    "# size 설정 : 2행 3열의 구조 설정\n",
    "arr = np.random.normal(0, 1, size=(2,3))\n",
    "np_print(arr)"
   ]
  },
  {
   "cell_type": "code",
   "execution_count": 55,
   "id": "e298c76e",
   "metadata": {},
   "outputs": [
    {
     "data": {
      "text/plain": [
       "array([ 9.92733602,  7.6581695 , 10.86438058, ..., 10.51157125,\n",
       "       10.61399224, 10.70021849])"
      ]
     },
     "execution_count": 55,
     "metadata": {},
     "output_type": "execute_result"
    }
   ],
   "source": [
    "# 정규분포 데이터로 이루어진 배열에 대한 시각화\n",
    "# 평균 10, 표준편차 2인 표준정규분포에서 추출한 10000개의 데이터\n",
    "\n",
    "data = np.random.normal(10, 2, 10000)\n",
    "data\n",
    "# 10 +- 2 = 70%(8~12) 1표준편차 범위\n",
    "# 6.08 ~13.92 = 95%(2 * 1.96) 2표준편차 범위"
   ]
  },
  {
   "cell_type": "code",
   "execution_count": 56,
   "id": "c2b7a656",
   "metadata": {},
   "outputs": [],
   "source": [
    "# 100개 구간으로 구분한 분포\n",
    "import matplotlib.pyplot as plt # 시각화 라이브러리"
   ]
  },
  {
   "cell_type": "code",
   "execution_count": 57,
   "id": "dc1076f2",
   "metadata": {},
   "outputs": [
    {
     "data": {
      "image/png": "[encoded data removed]",
      "text/plain": [
       "<Figure size 432x288 with 1 Axes>"
      ]
     },
     "metadata": {
      "needs_background": "light"
     },
     "output_type": "display_data"
    }
   ],
   "source": [
    "plt.hist(data, bins=100) # bins : 구간의 개수 -> bins가 작을수록 세분화됨.\n",
    "plt.show()"
   ]
  },
  {
   "cell_type": "markdown",
   "id": "b5f1bb2d",
   "metadata": {},
   "source": [
    "#### 3-2. np.random.rand(d0, d1, ,,,, dn)\n",
    "\n",
    "- 지정한 shape(d0, d1d,,,)에 따라 배열을 생성한 후 난수로 초기화\n",
    "\n",
    "- 사용되는 난수는 0 이상 1 미만의 범위에서 균등 분포로 추출"
   ]
  },
  {
   "cell_type": "code",
   "execution_count": 58,
   "id": "e4b1e904",
   "metadata": {},
   "outputs": [
    {
     "name": "stdout",
     "output_type": "stream",
     "text": [
      "\n",
      "    type :<class 'numpy.ndarray'>\n",
      "    shape : (2, 3)\n",
      "    ndim : 2\n",
      "    dtype : float64\n",
      "    array data : \n",
      " [[0.24965794 0.76916533 0.81680988]\n",
      " [0.95707693 0.43500896 0.58040423]]\n"
     ]
    }
   ],
   "source": [
    "# 2행 3열의 구조\n",
    "arr = np.random.rand(2, 3)\n",
    "np_print(arr)"
   ]
  },
  {
   "cell_type": "code",
   "execution_count": 59,
   "id": "0691a3da",
   "metadata": {},
   "outputs": [
    {
     "data": {
      "image/png": "[encoded data removed]",
      "text/plain": [
       "<Figure size 432x288 with 1 Axes>"
      ]
     },
     "metadata": {
      "needs_background": "light"
     },
     "output_type": "display_data"
    }
   ],
   "source": [
    "# 균등분포 데이터로 이루어진 배열에 대한 시각화\n",
    "# 10000개의 데이터로 이루어진 배열을 10개 구간으로 구분한 분포\n",
    "data = np.random.rand(10000)\n",
    "data\n",
    "plt.hist(data, bins=100)\n",
    "plt.show()"
   ]
  },
  {
   "cell_type": "markdown",
   "id": "eada59c3",
   "metadata": {},
   "source": [
    "#### 3-3. np.random.randn(d0, d1,,,,,dn)\n",
    "\n",
    "- 지정한 shape(d0, d1,,,)에 따라 배열을 생성한 후 난수로 초기화\n",
    "\n",
    "- 사용되는 난수는 표준정규분포에서 추출된 데이터"
   ]
  },
  {
   "cell_type": "code",
   "execution_count": 60,
   "id": "9daa65cc",
   "metadata": {},
   "outputs": [
    {
     "name": "stdout",
     "output_type": "stream",
     "text": [
      "\n",
      "    type :<class 'numpy.ndarray'>\n",
      "    shape : (2, 4)\n",
      "    ndim : 2\n",
      "    dtype : float64\n",
      "    array data : \n",
      " [[-1.28693943  0.75361998 -0.3593939   0.19358795]\n",
      " [-2.09389696  0.01142983  0.56350352  0.85513435]]\n"
     ]
    }
   ],
   "source": [
    "# 2행 4열\n",
    "arr = np.random.randn(2, 4)\n",
    "np_print(arr)"
   ]
  },
  {
   "cell_type": "code",
   "execution_count": 61,
   "id": "730eec3f",
   "metadata": {},
   "outputs": [
    {
     "data": {
      "text/plain": [
       "(array([  1.,   2.,   4.,   3.,   2.,   3.,   2.,   8.,   8.,  11.,  12.,\n",
       "         14.,  17.,   9.,  18.,  18.,  26.,  31.,  36.,  48.,  60.,  55.,\n",
       "         67.,  84.,  85.,  93., 100., 126., 142., 133., 182., 190., 175.,\n",
       "        207., 212., 230., 219., 257., 262., 251., 275., 284., 297., 274.,\n",
       "        273., 291., 286., 292., 274., 284., 283., 254., 242., 309., 228.,\n",
       "        218., 215., 230., 207., 185., 128., 131., 135., 115., 112.,  89.,\n",
       "         76.,  90.,  75.,  62.,  65.,  45.,  44.,  28.,  28.,  35.,  20.,\n",
       "         21.,  12.,  20.,  10.,   7.,  16.,   5.,   3.,   3.,   2.,   3.,\n",
       "          1.,   2.,   3.,   1.,   1.,   3.,   3.,   1.,   0.,   0.,   0.,\n",
       "          1.]),\n",
       " array([-3.29177383, -3.2197815 , -3.14778917, -3.07579684, -3.00380451,\n",
       "        -2.93181218, -2.85981985, -2.78782751, -2.71583518, -2.64384285,\n",
       "        -2.57185052, -2.49985819, -2.42786586, -2.35587353, -2.2838812 ,\n",
       "        -2.21188887, -2.13989654, -2.0679042 , -1.99591187, -1.92391954,\n",
       "        -1.85192721, -1.77993488, -1.70794255, -1.63595022, -1.56395789,\n",
       "        -1.49196556, -1.41997323, -1.34798089, -1.27598856, -1.20399623,\n",
       "        -1.1320039 , -1.06001157, -0.98801924, -0.91602691, -0.84403458,\n",
       "        -0.77204225, -0.70004992, -0.62805758, -0.55606525, -0.48407292,\n",
       "        -0.41208059, -0.34008826, -0.26809593, -0.1961036 , -0.12411127,\n",
       "        -0.05211894,  0.01987339,  0.09186573,  0.16385806,  0.23585039,\n",
       "         0.30784272,  0.37983505,  0.45182738,  0.52381971,  0.59581204,\n",
       "         0.66780437,  0.7397967 ,  0.81178904,  0.88378137,  0.9557737 ,\n",
       "         1.02776603,  1.09975836,  1.17175069,  1.24374302,  1.31573535,\n",
       "         1.38772768,  1.45972001,  1.53171235,  1.60370468,  1.67569701,\n",
       "         1.74768934,  1.81968167,  1.891674  ,  1.96366633,  2.03565866,\n",
       "         2.10765099,  2.17964332,  2.25163566,  2.32362799,  2.39562032,\n",
       "         2.46761265,  2.53960498,  2.61159731,  2.68358964,  2.75558197,\n",
       "         2.8275743 ,  2.89956663,  2.97155897,  3.0435513 ,  3.11554363,\n",
       "         3.18753596,  3.25952829,  3.33152062,  3.40351295,  3.47550528,\n",
       "         3.54749761,  3.61948994,  3.69148228,  3.76347461,  3.83546694,\n",
       "         3.90745927]),\n",
       " <BarContainer object of 100 artists>)"
      ]
     },
     "execution_count": 61,
     "metadata": {},
     "output_type": "execute_result"
    },
    {
     "data": {
      "image/png": "[encoded data removed]",
      "text/plain": [
       "<Figure size 432x288 with 1 Axes>"
      ]
     },
     "metadata": {
      "needs_background": "light"
     },
     "output_type": "display_data"
    }
   ],
   "source": [
    "# 정규분포 데이터로 이루어진 배열에 대한 시각화\n",
    "# 평균 0, 표준편차 1인 표준정규분포에서 추출한 10000개의 데이터에 대해\n",
    "# 100개의 구간으로 구분한 분포\n",
    "data = np.random.randn(10000)\n",
    "plt.hist(data, bins=100)"
   ]
  },
  {
   "cell_type": "markdown",
   "id": "28776c09",
   "metadata": {},
   "source": [
    "#### 3-4. np.random.randint(low, high=None, size=None, dtype='I')\n",
    "\n",
    "- low 이상 high 미만의 범위에서 정수로 구성된 데이터를 가지고 지정한 size의 배열을 생성\n",
    "\n",
    "- low : high 값이 지정되지 않으면 low 값이 최대값 (포함하지 않음) 으로 설정\n",
    "\n",
    "- high : 최대값(포함하지 않음), 기본값 = None\n",
    "\n",
    "- size : 배열의 구조, 기본값 = None(배열이 아닌 하나의 값으로 반환)"
   ]
  },
  {
   "cell_type": "code",
   "execution_count": 62,
   "id": "6a92b9c0",
   "metadata": {},
   "outputs": [
    {
     "data": {
      "text/plain": [
       "0"
      ]
     },
     "execution_count": 62,
     "metadata": {},
     "output_type": "execute_result"
    }
   ],
   "source": [
    "# 1미만의 정수 중 하나의 값 추출\n",
    "a = np.random.randint(1)\n",
    "a"
   ]
  },
  {
   "cell_type": "code",
   "execution_count": 63,
   "id": "1c3b829d",
   "metadata": {},
   "outputs": [
    {
     "name": "stdout",
     "output_type": "stream",
     "text": [
      "\n",
      "    type :<class 'numpy.ndarray'>\n",
      "    shape : (10,)\n",
      "    ndim : 1\n",
      "    dtype : int32\n",
      "    array data : \n",
      " [0 0 0 0 0 0 0 0 0 0]\n"
     ]
    }
   ],
   "source": [
    "# 1미만 정수 10개 추출\n",
    "n = np.random.randint(1,size=10)\n",
    "np_print(n)"
   ]
  },
  {
   "cell_type": "code",
   "execution_count": 64,
   "id": "5645fdcf",
   "metadata": {},
   "outputs": [
    {
     "name": "stdout",
     "output_type": "stream",
     "text": [
      "\n",
      "    type :<class 'numpy.ndarray'>\n",
      "    shape : (10,)\n",
      "    ndim : 1\n",
      "    dtype : int32\n",
      "    array data : \n",
      " [0 2 2 0 1 2 2 0 2 2]\n"
     ]
    }
   ],
   "source": [
    "# 3미만 정수 10개 추출\n",
    "arr = np.random.randint(3, size=10)\n",
    "np_print(arr)"
   ]
  },
  {
   "cell_type": "code",
   "execution_count": 65,
   "id": "bf18aabf",
   "metadata": {},
   "outputs": [
    {
     "name": "stdout",
     "output_type": "stream",
     "text": [
      "\n",
      "    type :<class 'numpy.ndarray'>\n",
      "    shape : (2, 4)\n",
      "    ndim : 2\n",
      "    dtype : int32\n",
      "    array data : \n",
      " [[9 9 9 5]\n",
      " [8 5 5 3]]\n"
     ]
    }
   ],
   "source": [
    "# 3이상 10미만의 정수로 구성된 2행(row2개) 4열(column 4개) 짜리 배열\n",
    "arr = np.random.randint(3,10,(2,4))\n",
    "np_print(arr)"
   ]
  },
  {
   "cell_type": "code",
   "execution_count": 66,
   "id": "51875987",
   "metadata": {},
   "outputs": [
    {
     "data": {
      "text/plain": [
       "(array([1973., 2001., 1977., 2026., 2023.]),\n",
       " array([-100.,  -60.,  -20.,   20.,   60.,  100.]),\n",
       " <BarContainer object of 5 artists>)"
      ]
     },
     "execution_count": 66,
     "metadata": {},
     "output_type": "execute_result"
    },
    {
     "data": {
      "image/png": "[encoded data removed]",
      "text/plain": [
       "<Figure size 432x288 with 1 Axes>"
      ]
     },
     "metadata": {
      "needs_background": "light"
     },
     "output_type": "display_data"
    }
   ],
   "source": [
    "# 균등분포로 이루어진 배열에 대한 시각화\n",
    "# -100 ~ 100 범위에서 추출한 10000개의 데이터에 대해 5개의 구간으로\n",
    "# 히스토그램을 만들어주세요.\n",
    "data = np.random.randint(-100, 101, 10000)\n",
    "plt.hist(data, bins=5)"
   ]
  },
  {
   "cell_type": "markdown",
   "id": "c2890200",
   "metadata": {},
   "source": [
    "### ※ 난수 = 무작위의 숫자\n",
    "\n",
    "- 프로그래밍에서 추출되는 난수는 무작위로 만들어진 것 처럼 보이지만 실제로는 고정된 기준(시작점)을 가지고 규칙적으로 생성\n",
    "- 시작점을 설정한다면 동일한 난수를 똑같이 생성 가능\n",
    "- 난수의 시작점 설정 : np.random.seed()"
   ]
  },
  {
   "cell_type": "code",
   "execution_count": 83,
   "id": "e0aadf49",
   "metadata": {},
   "outputs": [],
   "source": [
    "# 난수 시작점 설정하기\n",
    "# seed값 : 100\n",
    "np.random.seed(100)"
   ]
  },
  {
   "cell_type": "code",
   "execution_count": 84,
   "id": "bc065930",
   "metadata": {},
   "outputs": [
    {
     "data": {
      "text/plain": [
       "array([[0.54340494, 0.27836939, 0.42451759],\n",
       "       [0.84477613, 0.00471886, 0.12156912],\n",
       "       [0.67074908, 0.82585276, 0.13670659]])"
      ]
     },
     "execution_count": 84,
     "metadata": {},
     "output_type": "execute_result"
    }
   ],
   "source": [
    "# 0이상 1미만의 범위(고정범위)에서 실수값을 가지는 3행 3열의 난수생성\n",
    "np.random.random((3, 3))"
   ]
  },
  {
   "cell_type": "code",
   "execution_count": 85,
   "id": "03da2954",
   "metadata": {},
   "outputs": [
    {
     "data": {
      "text/plain": [
       "array([[0, 4],\n",
       "       [3, 4]])"
      ]
     },
     "execution_count": 85,
     "metadata": {},
     "output_type": "execute_result"
    }
   ],
   "source": [
    "# 0이상 5미만의 범위(지정범위)에서 정수값을 가지는 2행 2열의 난수 생성\n",
    "np.random.randint(0, 5, (2, 2))"
   ]
  },
  {
   "cell_type": "code",
   "execution_count": 75,
   "id": "1b7e91e6",
   "metadata": {},
   "outputs": [],
   "source": [
    "# 시작점 초기화\n",
    "# np.random.seed()의 안쪽의 정수를 기입하지 않고 실행하면 초기화\n",
    "np.random.seed()"
   ]
  },
  {
   "cell_type": "code",
   "execution_count": 71,
   "id": "32c7af10",
   "metadata": {},
   "outputs": [
    {
     "data": {
      "text/plain": [
       "array([[0.43433296, 0.83992535, 0.47536782],\n",
       "       [0.04648977, 0.10448522, 0.21753766],\n",
       "       [0.65112849, 0.25528439, 0.18448978]])"
      ]
     },
     "execution_count": 71,
     "metadata": {},
     "output_type": "execute_result"
    }
   ],
   "source": [
    "np.random.random((3, 3))"
   ]
  },
  {
   "cell_type": "code",
   "execution_count": null,
   "id": "4f45ac25",
   "metadata": {},
   "outputs": [],
   "source": []
  },
  {
   "cell_type": "code",
   "execution_count": null,
   "id": "de8c4960",
   "metadata": {},
   "outputs": [],
   "source": []
  },
  {
   "cell_type": "code",
   "execution_count": null,
   "id": "f7808453",
   "metadata": {},
   "outputs": [],
   "source": []
  },
  {
   "cell_type": "code",
   "execution_count": null,
   "id": "81689538",
   "metadata": {},
   "outputs": [],
   "source": []
  },
  {
   "cell_type": "code",
   "execution_count": null,
   "id": "00137787",
   "metadata": {},
   "outputs": [],
   "source": []
  },
  {
   "cell_type": "code",
   "execution_count": null,
   "id": "4b11e1f9",
   "metadata": {},
   "outputs": [],
   "source": []
  },
  {
   "cell_type": "code",
   "execution_count": null,
   "id": "f9e0ead2",
   "metadata": {},
   "outputs": [],
   "source": []
  },
  {
   "cell_type": "code",
   "execution_count": null,
   "id": "1a026036",
   "metadata": {},
   "outputs": [],
   "source": []
  },
  {
   "cell_type": "code",
   "execution_count": null,
   "id": "38f07613",
   "metadata": {},
   "outputs": [],
   "source": []
  }
 ],
 "metadata": {
  "kernelspec": {
   "display_name": "Python 3 (ipykernel)",
   "language": "python",
   "name": "python3"
  },
  "language_info": {
   "codemirror_mode": {
    "name": "ipython",
    "version": 3
   },
   "file_extension": ".py",
   "mimetype": "text/x-python",
   "name": "python",
   "nbconvert_exporter": "python",
   "pygments_lexer": "ipython3",
   "version": "3.9.7"
  }
 },
 "nbformat": 4,
 "nbformat_minor": 5
}
