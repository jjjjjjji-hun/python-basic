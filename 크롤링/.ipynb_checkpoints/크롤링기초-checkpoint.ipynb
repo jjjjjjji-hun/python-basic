{
 "cells": [
  {
   "cell_type": "markdown",
   "id": "2b619a9c",
   "metadata": {},
   "source": [
    "### 크롤링\n",
    "\n",
    "- 웹에서 원하는 자료를 컴퓨터에게 수집해오도록 명령내리는 기술\n",
    "- requests 라이브러리를 활용한 다이렉트 크롤링\n",
    "- selenium 라이브러리를 활용한 간접 크롤링 등이 있다.\n",
    "- 크롤러의 역할은 원하는 정보를 가져오는것 까지이며\n",
    "- 실제 원하는 정보를 용도에 맞게 가공하는것은 beautifulsoup가 담당한다."
   ]
  },
  {
   "cell_type": "code",
   "execution_count": 59,
   "id": "6b240785",
   "metadata": {},
   "outputs": [],
   "source": [
    "# 크롤링 작업을 위한 라이브러리 임포트\n",
    "from bs4 import BeautifulSoup # 웹에서 가져온 데이터를 정제하는 역할\n",
    "import requests # 파이썬에서 다이렉트로 자료를 요청하는 역할\n",
    "from selenium import webdriver # 크롬창을 켜주는 역할\n",
    "import time # 코드 중간에 딜레이를 넣는 역할"
   ]
  },
  {
   "cell_type": "markdown",
   "id": "cf46b832",
   "metadata": {},
   "source": [
    "# selenium 설치\n",
    "\n",
    "1. Anaconda Navigator의 좌측 Environments 클릭\n",
    "2. 가운데 base(root) 사이에 있는 ▶ 클릭 후 open terminal 클릭\n",
    "3. 나온 cmd창에서 pip install selenium 입력 후 다운 완료되면 껏다 켜기"
   ]
  },
  {
   "cell_type": "code",
   "execution_count": 60,
   "id": "be583bd1",
   "metadata": {},
   "outputs": [
    {
     "name": "stderr",
     "output_type": "stream",
     "text": [
      "C:\\Users\\ict03-24\\AppData\\Local\\Temp\\ipykernel_8112\\2176596488.py:2: DeprecationWarning: executable_path has been deprecated, please pass in a Service object\n",
      "  browser = webdriver.Chrome('chromedriver.exe')\n",
      "C:\\Users\\ict03-24\\AppData\\Local\\Temp\\ipykernel_8112\\2176596488.py:11: DeprecationWarning: find_element_by_xpath is deprecated. Please use find_element(by=By.XPATH, value=xpath) instead\n",
      "  browser.find_element_by_xpath('//*[@id=\"account\"]/a').click()\n",
      "C:\\Users\\ict03-24\\AppData\\Local\\Temp\\ipykernel_8112\\2176596488.py:14: DeprecationWarning: find_element_by_xpath is deprecated. Please use find_element(by=By.XPATH, value=xpath) instead\n",
      "  username = browser.find_element_by_xpath('//*[@id=\"id\"]')\n",
      "C:\\Users\\ict03-24\\AppData\\Local\\Temp\\ipykernel_8112\\2176596488.py:18: DeprecationWarning: find_element_by_xpath is deprecated. Please use find_element(by=By.XPATH, value=xpath) instead\n",
      "  userpass = browser.find_element_by_xpath('//*[@id=\"pw\"]')\n",
      "C:\\Users\\ict03-24\\AppData\\Local\\Temp\\ipykernel_8112\\2176596488.py:22: DeprecationWarning: find_element_by_xpath is deprecated. Please use find_element(by=By.XPATH, value=xpath) instead\n",
      "  browser.find_element_by_xpath('//*[@id=\"log.login\"]').click()\n"
     ]
    }
   ],
   "source": [
    "# browser 라는 변수가 브라우저 그 자체, browser에 내리는 명령을 실제로 물리적인 드라이버가 수행항\n",
    "browser = webdriver.Chrome('chromedriver.exe')\n",
    "\n",
    "# .get(접속주소)를 입력하면 해당 주소로 브라우저 창이 이동합니다.\n",
    "browser.get('https://www.naver.com')\n",
    "\n",
    "# 코드실행간 텀 주기(3초)\n",
    "time.sleep(3)\n",
    "\n",
    "# 네이버 로그인 버튼의 xpath를 따온 다음 클릭시키기\n",
    "browser.find_element_by_xpath('//*[@id=\"account\"]/a').click()\n",
    "\n",
    "# username이라는 변수에 로그인 아이디 박스 xpath 위치를 잡아준 다음 아이디 입력\n",
    "username = browser.find_element_by_xpath('//*[@id=\"id\"]')\n",
    "username.send_keys('abcd1234')\n",
    "\n",
    "# userpass 변수에 비밀번호 입력 박스 xpath 위치를 잡아준 다음 비밀번호 입력\n",
    "userpass = browser.find_element_by_xpath('//*[@id=\"pw\"]')\n",
    "userpass.send_keys('aaaa')\n",
    "\n",
    "# 로그인은 로그인 버튼을 클릭해서 할 수도 있고, 위의 send_keys에 \\n(엔터키 개행)을 입력해 할 수도 있음\n",
    "browser.find_element_by_xpath('//*[@id=\"log.login\"]').click()\n",
    "\n",
    "# 3초 딜레이\n",
    "time.sleep(3)\n",
    "\n",
    "# 크롬 창 자동으로 닫기\n",
    "browser.close()"
   ]
  },
  {
   "cell_type": "markdown",
   "id": "db2a227a",
   "metadata": {},
   "source": [
    "### 교보문고 사이트 접근 실습\n",
    "\n",
    "- 1. 네이버 검색창에 \"교보문고\" 키워드로 검색\n",
    "- 2. 검색 결과로 나온 창에서 \"교보문고\" 이동 링크 클릭"
   ]
  },
  {
   "cell_type": "code",
   "execution_count": 61,
   "id": "a613d24e",
   "metadata": {},
   "outputs": [
    {
     "name": "stderr",
     "output_type": "stream",
     "text": [
      "C:\\Users\\ict03-24\\AppData\\Local\\Temp\\ipykernel_8112\\84635181.py:1: DeprecationWarning: executable_path has been deprecated, please pass in a Service object\n",
      "  browser = webdriver.Chrome('chromedriver.exe')\n",
      "C:\\Users\\ict03-24\\AppData\\Local\\Temp\\ipykernel_8112\\84635181.py:4: DeprecationWarning: find_element_by_xpath is deprecated. Please use find_element(by=By.XPATH, value=xpath) instead\n",
      "  browser.find_element_by_xpath('//*[@id=\"query\"]').click()\n",
      "C:\\Users\\ict03-24\\AppData\\Local\\Temp\\ipykernel_8112\\84635181.py:5: DeprecationWarning: find_element_by_xpath is deprecated. Please use find_element(by=By.XPATH, value=xpath) instead\n",
      "  text1 = browser.find_element_by_xpath('//*[@id=\"query\"]')\n",
      "C:\\Users\\ict03-24\\AppData\\Local\\Temp\\ipykernel_8112\\84635181.py:8: DeprecationWarning: find_element_by_xpath is deprecated. Please use find_element(by=By.XPATH, value=xpath) instead\n",
      "  browser.find_element_by_xpath('//*[@id=\"main_pack\"]/section[1]/div/div/div[1]/div/div[2]/a').click()\n"
     ]
    }
   ],
   "source": [
    "browser = webdriver.Chrome('chromedriver.exe')\n",
    "browser.get('https://www.naver.com')\n",
    "time.sleep(3)\n",
    "browser.find_element_by_xpath('//*[@id=\"query\"]').click()\n",
    "text1 = browser.find_element_by_xpath('//*[@id=\"query\"]')\n",
    "text1.send_keys('교보문고\\n')\n",
    "\n",
    "browser.find_element_by_xpath('//*[@id=\"main_pack\"]/section[1]/div/div/div[1]/div/div[2]/a').click()"
   ]
  },
  {
   "cell_type": "markdown",
   "id": "c2fbe9d1",
   "metadata": {},
   "source": [
    "### 특정 url로 접근했을때 바로 원하는 정보를 얻을 수 있는 경우\n",
    "\n",
    "- 그냥 바로 접근하면 됨(굳이 복잡하게 검색하고 나온 결과를 어쩌고...할 필요가 없음)\n",
    "- 그러나 페이스북 같이 특정 조건을 만족해야 추가적인 자료를 보여주는 사이트도 있고\n",
    "- 로그인해야만 자료에 접근할 수 있는 사이트도 있기 때문에\n",
    "- 어떻게 접근해야 원하는 자료를 얻어올 수 있는지는 신중하게 고려해야함"
   ]
  },
  {
   "cell_type": "code",
   "execution_count": 62,
   "id": "a5ca3fb7",
   "metadata": {},
   "outputs": [
    {
     "name": "stderr",
     "output_type": "stream",
     "text": [
      "C:\\Users\\ict03-24\\AppData\\Local\\Temp\\ipykernel_8112\\631010516.py:2: DeprecationWarning: executable_path has been deprecated, please pass in a Service object\n",
      "  browser = webdriver.Chrome(\"chromedriver.exe\")\n"
     ]
    },
    {
     "ename": "NoSuchWindowException",
     "evalue": "Message: no such window: target window already closed\nfrom unknown error: web view not found\n  (Session info: chrome=102.0.5005.63)\nStacktrace:\nBacktrace:\n\tOrdinal0 [0x0065B8F3+2406643]\n\tOrdinal0 [0x005EAF31+1945393]\n\tOrdinal0 [0x004DC748+837448]\n\tOrdinal0 [0x004C42B0+737968]\n\tOrdinal0 [0x00526C09+1141769]\n\tOrdinal0 [0x00533E22+1195554]\n\tOrdinal0 [0x00524096+1130646]\n\tOrdinal0 [0x004FE636+976438]\n\tOrdinal0 [0x004FF546+980294]\n\tGetHandleVerifier [0x008C9612+2498066]\n\tGetHandleVerifier [0x008BC920+2445600]\n\tGetHandleVerifier [0x006F4F2A+579370]\n\tGetHandleVerifier [0x006F3D36+574774]\n\tOrdinal0 [0x005F1C0B+1973259]\n\tOrdinal0 [0x005F6688+1992328]\n\tOrdinal0 [0x005F6775+1992565]\n\tOrdinal0 [0x005FF8D1+2029777]\n\tBaseThreadInitThunk [0x7697FA29+25]\n\tRtlGetAppContainerNamedObjectPath [0x77C07A7E+286]\n\tRtlGetAppContainerNamedObjectPath [0x77C07A4E+238]\n",
     "output_type": "error",
     "traceback": [
      "\u001b[1;31m---------------------------------------------------------------------------\u001b[0m",
      "\u001b[1;31mNoSuchWindowException\u001b[0m                     Traceback (most recent call last)",
      "Input \u001b[1;32mIn [62]\u001b[0m, in \u001b[0;36m<cell line: 10>\u001b[1;34m()\u001b[0m\n\u001b[0;32m      6\u001b[0m time\u001b[38;5;241m.\u001b[39msleep(\u001b[38;5;241m2\u001b[39m)\n\u001b[0;32m      8\u001b[0m \u001b[38;5;66;03m# 브라우저가 특정 페이지에 접근했을때, 해당 페이지 소스코드 전체 긁어오기\u001b[39;00m\n\u001b[0;32m      9\u001b[0m \u001b[38;5;66;03m# 여기까지가 셀레니온의 역할임. 가져온 소스코드는 뷰티플수프로 정제함\u001b[39;00m\n\u001b[1;32m---> 10\u001b[0m source \u001b[38;5;241m=\u001b[39m \u001b[43mbrowser\u001b[49m\u001b[38;5;241;43m.\u001b[39;49m\u001b[43mpage_source\u001b[49m\n\u001b[0;32m     11\u001b[0m \u001b[38;5;28mprint\u001b[39m(\u001b[38;5;28mtype\u001b[39m(source))\n\u001b[0;32m     12\u001b[0m \u001b[38;5;28mprint\u001b[39m(source)\n",
      "File \u001b[1;32m~\\AppData\\Roaming\\Python\\Python39\\site-packages\\selenium\\webdriver\\remote\\webdriver.py:932\u001b[0m, in \u001b[0;36mWebDriver.page_source\u001b[1;34m(self)\u001b[0m\n\u001b[0;32m    922\u001b[0m \u001b[38;5;129m@property\u001b[39m\n\u001b[0;32m    923\u001b[0m \u001b[38;5;28;01mdef\u001b[39;00m \u001b[38;5;21mpage_source\u001b[39m(\u001b[38;5;28mself\u001b[39m) \u001b[38;5;241m-\u001b[39m\u001b[38;5;241m>\u001b[39m \u001b[38;5;28mstr\u001b[39m:\n\u001b[0;32m    924\u001b[0m     \u001b[38;5;124;03m\"\"\"\u001b[39;00m\n\u001b[0;32m    925\u001b[0m \u001b[38;5;124;03m    Gets the source of the current page.\u001b[39;00m\n\u001b[0;32m    926\u001b[0m \n\u001b[1;32m   (...)\u001b[0m\n\u001b[0;32m    930\u001b[0m \u001b[38;5;124;03m            driver.page_source\u001b[39;00m\n\u001b[0;32m    931\u001b[0m \u001b[38;5;124;03m    \"\"\"\u001b[39;00m\n\u001b[1;32m--> 932\u001b[0m     \u001b[38;5;28;01mreturn\u001b[39;00m \u001b[38;5;28;43mself\u001b[39;49m\u001b[38;5;241;43m.\u001b[39;49m\u001b[43mexecute\u001b[49m\u001b[43m(\u001b[49m\u001b[43mCommand\u001b[49m\u001b[38;5;241;43m.\u001b[39;49m\u001b[43mGET_PAGE_SOURCE\u001b[49m\u001b[43m)\u001b[49m[\u001b[38;5;124m'\u001b[39m\u001b[38;5;124mvalue\u001b[39m\u001b[38;5;124m'\u001b[39m]\n",
      "File \u001b[1;32m~\\AppData\\Roaming\\Python\\Python39\\site-packages\\selenium\\webdriver\\remote\\webdriver.py:430\u001b[0m, in \u001b[0;36mWebDriver.execute\u001b[1;34m(self, driver_command, params)\u001b[0m\n\u001b[0;32m    428\u001b[0m response \u001b[38;5;241m=\u001b[39m \u001b[38;5;28mself\u001b[39m\u001b[38;5;241m.\u001b[39mcommand_executor\u001b[38;5;241m.\u001b[39mexecute(driver_command, params)\n\u001b[0;32m    429\u001b[0m \u001b[38;5;28;01mif\u001b[39;00m response:\n\u001b[1;32m--> 430\u001b[0m     \u001b[38;5;28;43mself\u001b[39;49m\u001b[38;5;241;43m.\u001b[39;49m\u001b[43merror_handler\u001b[49m\u001b[38;5;241;43m.\u001b[39;49m\u001b[43mcheck_response\u001b[49m\u001b[43m(\u001b[49m\u001b[43mresponse\u001b[49m\u001b[43m)\u001b[49m\n\u001b[0;32m    431\u001b[0m     response[\u001b[38;5;124m'\u001b[39m\u001b[38;5;124mvalue\u001b[39m\u001b[38;5;124m'\u001b[39m] \u001b[38;5;241m=\u001b[39m \u001b[38;5;28mself\u001b[39m\u001b[38;5;241m.\u001b[39m_unwrap_value(\n\u001b[0;32m    432\u001b[0m         response\u001b[38;5;241m.\u001b[39mget(\u001b[38;5;124m'\u001b[39m\u001b[38;5;124mvalue\u001b[39m\u001b[38;5;124m'\u001b[39m, \u001b[38;5;28;01mNone\u001b[39;00m))\n\u001b[0;32m    433\u001b[0m     \u001b[38;5;28;01mreturn\u001b[39;00m response\n",
      "File \u001b[1;32m~\\AppData\\Roaming\\Python\\Python39\\site-packages\\selenium\\webdriver\\remote\\errorhandler.py:247\u001b[0m, in \u001b[0;36mErrorHandler.check_response\u001b[1;34m(self, response)\u001b[0m\n\u001b[0;32m    245\u001b[0m         alert_text \u001b[38;5;241m=\u001b[39m value[\u001b[38;5;124m'\u001b[39m\u001b[38;5;124malert\u001b[39m\u001b[38;5;124m'\u001b[39m]\u001b[38;5;241m.\u001b[39mget(\u001b[38;5;124m'\u001b[39m\u001b[38;5;124mtext\u001b[39m\u001b[38;5;124m'\u001b[39m)\n\u001b[0;32m    246\u001b[0m     \u001b[38;5;28;01mraise\u001b[39;00m exception_class(message, screen, stacktrace, alert_text)  \u001b[38;5;66;03m# type: ignore[call-arg]  # mypy is not smart enough here\u001b[39;00m\n\u001b[1;32m--> 247\u001b[0m \u001b[38;5;28;01mraise\u001b[39;00m exception_class(message, screen, stacktrace)\n",
      "\u001b[1;31mNoSuchWindowException\u001b[0m: Message: no such window: target window already closed\nfrom unknown error: web view not found\n  (Session info: chrome=102.0.5005.63)\nStacktrace:\nBacktrace:\n\tOrdinal0 [0x0065B8F3+2406643]\n\tOrdinal0 [0x005EAF31+1945393]\n\tOrdinal0 [0x004DC748+837448]\n\tOrdinal0 [0x004C42B0+737968]\n\tOrdinal0 [0x00526C09+1141769]\n\tOrdinal0 [0x00533E22+1195554]\n\tOrdinal0 [0x00524096+1130646]\n\tOrdinal0 [0x004FE636+976438]\n\tOrdinal0 [0x004FF546+980294]\n\tGetHandleVerifier [0x008C9612+2498066]\n\tGetHandleVerifier [0x008BC920+2445600]\n\tGetHandleVerifier [0x006F4F2A+579370]\n\tGetHandleVerifier [0x006F3D36+574774]\n\tOrdinal0 [0x005F1C0B+1973259]\n\tOrdinal0 [0x005F6688+1992328]\n\tOrdinal0 [0x005F6775+1992565]\n\tOrdinal0 [0x005FF8D1+2029777]\n\tBaseThreadInitThunk [0x7697FA29+25]\n\tRtlGetAppContainerNamedObjectPath [0x77C07A7E+286]\n\tRtlGetAppContainerNamedObjectPath [0x77C07A4E+238]\n"
     ]
    }
   ],
   "source": [
    "# http://www.kyobobook.co.kr/bestSellerNew/bestseller.laf?mallGb=KOR&linkClass=e&range=1&kind=0&orderClick=DAb\n",
    "browser = webdriver.Chrome(\"chromedriver.exe\")\n",
    "\n",
    "browser.get('http://www.kyobobook.co.kr/bestSellerNew/bestseller.laf?mallGb=KOR&linkClass=e&range=1&kind=0&orderClick=DAb')\n",
    "\n",
    "time.sleep(2)\n",
    "\n",
    "# 브라우저가 특정 페이지에 접근했을때, 해당 페이지 소스코드 전체 긁어오기\n",
    "# 여기까지가 셀레니온의 역할임. 가져온 소스코드는 뷰티플수프로 정제함\n",
    "source = browser.page_source\n",
    "print(type(source))\n",
    "print(source)\n",
    "# source 변수에 원본 코드가 들어있으므로 다음 블럭에서 이 자료를 가공함."
   ]
  },
  {
   "cell_type": "code",
   "execution_count": null,
   "id": "be281ea2",
   "metadata": {},
   "outputs": [],
   "source": [
    "# BeautifulSoup(소스코드, \"html.parser\")로 입력시 컴퓨터가 해당 코드를 html형식으로 인식함.\n",
    "parsed_source = BeautifulSoup(source, \"html.parser\")\n",
    "print(type(parsed_source))\n",
    "print(type(source))"
   ]
  },
  {
   "cell_type": "code",
   "execution_count": null,
   "id": "0d9c9e05",
   "metadata": {},
   "outputs": [],
   "source": [
    "# 타이틀 관련해서 가져오기\n",
    "# 파싱된코드.find_all(\"태그명\", class_\"클래스명\") 입력시 해당 태그나 클래스만 가져올 수 있음\n",
    "strong_tags = parsed_source.find_all(\"strong\")\n",
    "print(len(strong_tags)) #  203개의 strong 태그가 있어서 제목만 가져오기 부적합."
   ]
  },
  {
   "cell_type": "code",
   "execution_count": null,
   "id": "4cfc16af",
   "metadata": {},
   "outputs": [],
   "source": [
    "div_tags = parsed_source.find_all(\"div\", class_=\"title\")\n",
    "print(len(div_tags))"
   ]
  },
  {
   "cell_type": "code",
   "execution_count": null,
   "id": "891accad",
   "metadata": {},
   "outputs": [],
   "source": [
    "# 현재 페이지에 있는 자료중에서 가져올 자료의 범위만 가져오기 위해\n",
    "ul_tags = parsed_source.find_all(\"ul\", class_=\"list_type01\")\n",
    "print(len(ul_tags))"
   ]
  },
  {
   "cell_type": "code",
   "execution_count": null,
   "id": "8268a321",
   "metadata": {
    "scrolled": true
   },
   "outputs": [],
   "source": [
    "# find_all() 명령어로 가져오는 데이터는 무조건 리스트로 받아지므로 받아온\n",
    "# 자료가 단 한개라도 일단 인덱싱을 해야 합니다.\n",
    "titles = ul_tags[0].find_all(\"div\", class_=\"title\")\n",
    "print(len(titles))"
   ]
  },
  {
   "cell_type": "code",
   "execution_count": 64,
   "id": "53c5448c",
   "metadata": {},
   "outputs": [],
   "source": [
    "# 제목, 가격, 저자 정보를 저장할 리스트 생성\n",
    "title_list = []\n",
    "price_list = []\n",
    "author_list = []"
   ]
  },
  {
   "cell_type": "code",
   "execution_count": 65,
   "id": "cdbc3d74",
   "metadata": {},
   "outputs": [
    {
     "name": "stdout",
     "output_type": "stream",
     "text": [
      "진짜 쓰는 실무 엑셀\n",
      "1일 1로그 100일 완성 IT 지식\n",
      "비전공자를 위한 이해할 수 있는 IT 지식\n",
      "구글 엔지니어는 이렇게 일한다\n",
      "Do it! 점프 투 파이썬\n",
      "면접을 위한 CS 전공지식 노트\n",
      "혼자 공부하는 얄팍한 코딩 지식\n",
      "혼자 공부하는 파이썬\n",
      "침묵의 봄\n",
      "혼자 공부하는 머신러닝+딥러닝\n",
      "파이썬과 40개의 작품들(만들면서 배우는)\n",
      "Clean Code(클린 코드)\n",
      "Do it! HTML+CSS+자바스크립트 웹 표준의 정석\n",
      "이것이 취업을 위한 코딩 테스트다 with 파이썬\n",
      "쏙쏙 들어오는 함수형 코딩\n",
      "모던 자바스크립트 Deep Dive(위키북스 프로그래밍 & 프랙티스 시리즈 26)\n",
      "맛있는 디자인 포토샵&일러스트레이터 CC(2022)\n",
      "회사에서 바로 통하는 실무 엑셀+파워포인트+워드&한글\n",
      "프로그래머의 뇌\n",
      "실용주의 프로그래머(20주년 기념판)(Program Programming Programmer)\n"
     ]
    }
   ],
   "source": [
    "# .text를 수행하면 <> 사이에 있는 자료가 모두 소거됩니다.\n",
    "# 단, 개행은 그대로 남으므로 .strip()을 이용해 문자만 남기는 작업이 추가로 필요합니다.\n",
    "for i in titles:\n",
    "    print(i.text.strip())"
   ]
  },
  {
   "cell_type": "markdown",
   "id": "6e439e4b",
   "metadata": {},
   "source": [
    "### 가격, 저자를 추가로 얻어와서 화면에 출력하기"
   ]
  },
  {
   "cell_type": "code",
   "execution_count": 66,
   "id": "561a65c3",
   "metadata": {},
   "outputs": [
    {
     "data": {
      "text/plain": [
       "[<strong class=\"book_price\">18,900원</strong>,\n",
       " <strong class=\"book_price\">18,000원</strong>,\n",
       " <strong class=\"book_price\">15,120원</strong>,\n",
       " <strong class=\"book_price\">40,500원</strong>,\n",
       " <strong class=\"book_price\">16,920원</strong>,\n",
       " <strong class=\"book_price\">21,600원</strong>,\n",
       " <strong class=\"book_price\">16,200원</strong>,\n",
       " <strong class=\"book_price\">16,200원</strong>,\n",
       " <strong class=\"book_price\">16,200원</strong>,\n",
       " <strong class=\"book_price\">23,400원</strong>,\n",
       " <strong class=\"book_price\">16,920원</strong>,\n",
       " <strong class=\"book_price\">29,700원</strong>,\n",
       " <strong class=\"book_price\">27,000원</strong>,\n",
       " <strong class=\"book_price\">30,600원</strong>,\n",
       " <strong class=\"book_price\">31,500원</strong>,\n",
       " <strong class=\"book_price\">40,500원</strong>,\n",
       " <strong class=\"book_price\">19,800원</strong>,\n",
       " <strong class=\"book_price\">19,800원</strong>,\n",
       " <strong class=\"book_price\">21,600원</strong>,\n",
       " <strong class=\"book_price\">29,700원</strong>]"
      ]
     },
     "execution_count": 66,
     "metadata": {},
     "output_type": "execute_result"
    }
   ],
   "source": [
    "strong_book_price = parsed_source.find_all(\"strong\", class_=\"book_price\")\n",
    "strong_book_price"
   ]
  },
  {
   "cell_type": "code",
   "execution_count": 67,
   "id": "70d08ab1",
   "metadata": {},
   "outputs": [
    {
     "name": "stdout",
     "output_type": "stream",
     "text": [
      "18,900원\n",
      "18,000원\n",
      "15,120원\n",
      "40,500원\n",
      "16,920원\n",
      "21,600원\n",
      "16,200원\n",
      "16,200원\n",
      "16,200원\n",
      "23,400원\n",
      "16,920원\n",
      "29,700원\n",
      "27,000원\n",
      "30,600원\n",
      "31,500원\n",
      "40,500원\n",
      "19,800원\n",
      "19,800원\n",
      "21,600원\n",
      "29,700원\n"
     ]
    }
   ],
   "source": [
    "for i in strong_book_price:\n",
    "    print(i.text.strip())"
   ]
  },
  {
   "cell_type": "code",
   "execution_count": 68,
   "id": "86ee03f3",
   "metadata": {},
   "outputs": [
    {
     "data": {
      "text/plain": [
       "20"
      ]
     },
     "execution_count": 68,
     "metadata": {},
     "output_type": "execute_result"
    }
   ],
   "source": [
    "authors = parsed_source.find_all(\"div\", class_=\"author\")\n",
    "len(authors)"
   ]
  },
  {
   "cell_type": "code",
   "execution_count": 69,
   "id": "633a2b43",
   "metadata": {},
   "outputs": [
    {
     "name": "stdout",
     "output_type": "stream",
     "text": [
      "오빠두(전진권)| 제이펍| 2022년 02월 15일\n",
      "브라이언 W. 커니핸| 인사이트| 2021년 12월 31일\n",
      "최원영| 티더블유아이지| 2020년 07월 14일\n",
      "타이터스 윈터스저자 더보기톰 맨쉬렉하이럼 라이트| 한빛미디어| 2022년 05월 10일\n",
      "박응용| 이지스퍼블리싱| 2019년 06월 20일\n",
      "주홍철| 길벗| 2022년 04월 28일\n",
      "고현민| 한빛미디어| 2022년 05월 25일\n",
      "윤인성| 한빛미디어| 2019년 06월 10일\n",
      "레이첼 카슨| 에코리브르| 2011년 12월 30일\n",
      "박해선| 한빛미디어| 2020년 12월 21일\n",
      "장문철| 앤써북| 2022년 02월 28일\n",
      "로버트 C. 마틴| 인사이트| 2013년 12월 24일\n",
      "고경희| 이지스퍼블리싱| 2021년 01월 22일\n",
      "나동빈| 한빛미디어| 2020년 08월 05일\n",
      "에릭 노먼드| 제이펍| 2022년 04월 22일\n",
      "이웅모| 위키북스| 2020년 09월 25일\n",
      "빨간고래(박정아)저자 더보기윤이사라| 한빛미디어| 2022년 01월 07일\n",
      "전미진저자 더보기이화진신면철| 한빛미디어| 2020년 04월 10일\n",
      "펠리너 헤르만스| 제이펍| 2022년 01월 12일\n",
      "데이비드 토머스저자 더보기앤드류 헌트| 인사이트| 2022년 02월 24일\n"
     ]
    }
   ],
   "source": [
    "for i in authors:\n",
    "    print(i.text.strip().replace(\"\\n\", \"\").replace(\"\\t\", \"\"))"
   ]
  },
  {
   "cell_type": "code",
   "execution_count": 70,
   "id": "906969c9",
   "metadata": {},
   "outputs": [
    {
     "data": {
      "text/plain": [
       "['진짜 쓰는 실무 엑셀',\n",
       " '1일 1로그 100일 완성 IT 지식',\n",
       " '비전공자를 위한 이해할 수 있는 IT 지식',\n",
       " '구글 엔지니어는 이렇게 일한다',\n",
       " 'Do it! 점프 투 파이썬',\n",
       " '면접을 위한 CS 전공지식 노트',\n",
       " '혼자 공부하는 얄팍한 코딩 지식',\n",
       " '혼자 공부하는 파이썬',\n",
       " '침묵의 봄',\n",
       " '혼자 공부하는 머신러닝+딥러닝',\n",
       " '파이썬과 40개의 작품들(만들면서 배우는)',\n",
       " 'Clean Code(클린 코드)',\n",
       " 'Do it! HTML+CSS+자바스크립트 웹 표준의 정석',\n",
       " '이것이 취업을 위한 코딩 테스트다 with 파이썬',\n",
       " '쏙쏙 들어오는 함수형 코딩',\n",
       " '모던 자바스크립트 Deep Dive(위키북스 프로그래밍 & 프랙티스 시리즈 26)',\n",
       " '맛있는 디자인 포토샵&일러스트레이터 CC(2022)',\n",
       " '회사에서 바로 통하는 실무 엑셀+파워포인트+워드&한글',\n",
       " '프로그래머의 뇌',\n",
       " '실용주의 프로그래머(20주년 기념판)(Program Programming Programmer)']"
      ]
     },
     "execution_count": 70,
     "metadata": {},
     "output_type": "execute_result"
    }
   ],
   "source": [
    "for i in titles:\n",
    "    title_list.append(i.text.strip())\n",
    "title_list"
   ]
  },
  {
   "cell_type": "code",
   "execution_count": 71,
   "id": "62ea93ef",
   "metadata": {},
   "outputs": [
    {
     "data": {
      "text/plain": [
       "['18,900원',\n",
       " '18,000원',\n",
       " '15,120원',\n",
       " '40,500원',\n",
       " '16,920원',\n",
       " '21,600원',\n",
       " '16,200원',\n",
       " '16,200원',\n",
       " '16,200원',\n",
       " '23,400원',\n",
       " '16,920원',\n",
       " '29,700원',\n",
       " '27,000원',\n",
       " '30,600원',\n",
       " '31,500원',\n",
       " '40,500원',\n",
       " '19,800원',\n",
       " '19,800원',\n",
       " '21,600원',\n",
       " '29,700원']"
      ]
     },
     "execution_count": 71,
     "metadata": {},
     "output_type": "execute_result"
    }
   ],
   "source": [
    "for i in strong_book_price:\n",
    "    price_list.append(i.text.strip())\n",
    "price_list"
   ]
  },
  {
   "cell_type": "code",
   "execution_count": 72,
   "id": "45421ff3",
   "metadata": {},
   "outputs": [
    {
     "data": {
      "text/plain": [
       "['오빠두(전진권)| 제이펍| 2022년 02월 15일',\n",
       " '브라이언 W. 커니핸| 인사이트| 2021년 12월 31일',\n",
       " '최원영| 티더블유아이지| 2020년 07월 14일',\n",
       " '타이터스 윈터스저자 더보기톰 맨쉬렉하이럼 라이트| 한빛미디어| 2022년 05월 10일',\n",
       " '박응용| 이지스퍼블리싱| 2019년 06월 20일',\n",
       " '주홍철| 길벗| 2022년 04월 28일',\n",
       " '고현민| 한빛미디어| 2022년 05월 25일',\n",
       " '윤인성| 한빛미디어| 2019년 06월 10일',\n",
       " '레이첼 카슨| 에코리브르| 2011년 12월 30일',\n",
       " '박해선| 한빛미디어| 2020년 12월 21일',\n",
       " '장문철| 앤써북| 2022년 02월 28일',\n",
       " '로버트 C. 마틴| 인사이트| 2013년 12월 24일',\n",
       " '고경희| 이지스퍼블리싱| 2021년 01월 22일',\n",
       " '나동빈| 한빛미디어| 2020년 08월 05일',\n",
       " '에릭 노먼드| 제이펍| 2022년 04월 22일',\n",
       " '이웅모| 위키북스| 2020년 09월 25일',\n",
       " '빨간고래(박정아)저자 더보기윤이사라| 한빛미디어| 2022년 01월 07일',\n",
       " '전미진저자 더보기이화진신면철| 한빛미디어| 2020년 04월 10일',\n",
       " '펠리너 헤르만스| 제이펍| 2022년 01월 12일',\n",
       " '데이비드 토머스저자 더보기앤드류 헌트| 인사이트| 2022년 02월 24일']"
      ]
     },
     "execution_count": 72,
     "metadata": {},
     "output_type": "execute_result"
    }
   ],
   "source": [
    "for i in authors:\n",
    "    author_list.append(i.text.strip().replace(\"\\n\", \"\").replace(\"\\t\", \"\"))\n",
    "author_list"
   ]
  },
  {
   "cell_type": "code",
   "execution_count": 73,
   "id": "2621e297",
   "metadata": {},
   "outputs": [
    {
     "name": "stdout",
     "output_type": "stream",
     "text": [
      "진짜 쓰는 실무 엑셀\n",
      "18,900원\n",
      "오빠두(전진권)| 제이펍| 2022년 02월 15일\n",
      "=====\n",
      "1일 1로그 100일 완성 IT 지식\n",
      "18,000원\n",
      "브라이언 W. 커니핸| 인사이트| 2021년 12월 31일\n",
      "=====\n",
      "비전공자를 위한 이해할 수 있는 IT 지식\n",
      "15,120원\n",
      "최원영| 티더블유아이지| 2020년 07월 14일\n",
      "=====\n",
      "구글 엔지니어는 이렇게 일한다\n",
      "40,500원\n",
      "타이터스 윈터스저자 더보기톰 맨쉬렉하이럼 라이트| 한빛미디어| 2022년 05월 10일\n",
      "=====\n",
      "Do it! 점프 투 파이썬\n",
      "16,920원\n",
      "박응용| 이지스퍼블리싱| 2019년 06월 20일\n",
      "=====\n",
      "면접을 위한 CS 전공지식 노트\n",
      "21,600원\n",
      "주홍철| 길벗| 2022년 04월 28일\n",
      "=====\n",
      "혼자 공부하는 얄팍한 코딩 지식\n",
      "16,200원\n",
      "고현민| 한빛미디어| 2022년 05월 25일\n",
      "=====\n",
      "혼자 공부하는 파이썬\n",
      "16,200원\n",
      "윤인성| 한빛미디어| 2019년 06월 10일\n",
      "=====\n",
      "침묵의 봄\n",
      "16,200원\n",
      "레이첼 카슨| 에코리브르| 2011년 12월 30일\n",
      "=====\n",
      "혼자 공부하는 머신러닝+딥러닝\n",
      "23,400원\n",
      "박해선| 한빛미디어| 2020년 12월 21일\n",
      "=====\n",
      "파이썬과 40개의 작품들(만들면서 배우는)\n",
      "16,920원\n",
      "장문철| 앤써북| 2022년 02월 28일\n",
      "=====\n",
      "Clean Code(클린 코드)\n",
      "29,700원\n",
      "로버트 C. 마틴| 인사이트| 2013년 12월 24일\n",
      "=====\n",
      "Do it! HTML+CSS+자바스크립트 웹 표준의 정석\n",
      "27,000원\n",
      "고경희| 이지스퍼블리싱| 2021년 01월 22일\n",
      "=====\n",
      "이것이 취업을 위한 코딩 테스트다 with 파이썬\n",
      "30,600원\n",
      "나동빈| 한빛미디어| 2020년 08월 05일\n",
      "=====\n",
      "쏙쏙 들어오는 함수형 코딩\n",
      "31,500원\n",
      "에릭 노먼드| 제이펍| 2022년 04월 22일\n",
      "=====\n",
      "모던 자바스크립트 Deep Dive(위키북스 프로그래밍 & 프랙티스 시리즈 26)\n",
      "40,500원\n",
      "이웅모| 위키북스| 2020년 09월 25일\n",
      "=====\n",
      "맛있는 디자인 포토샵&일러스트레이터 CC(2022)\n",
      "19,800원\n",
      "빨간고래(박정아)저자 더보기윤이사라| 한빛미디어| 2022년 01월 07일\n",
      "=====\n",
      "회사에서 바로 통하는 실무 엑셀+파워포인트+워드&한글\n",
      "19,800원\n",
      "전미진저자 더보기이화진신면철| 한빛미디어| 2020년 04월 10일\n",
      "=====\n",
      "프로그래머의 뇌\n",
      "21,600원\n",
      "펠리너 헤르만스| 제이펍| 2022년 01월 12일\n",
      "=====\n",
      "실용주의 프로그래머(20주년 기념판)(Program Programming Programmer)\n",
      "29,700원\n",
      "데이비드 토머스저자 더보기앤드류 헌트| 인사이트| 2022년 02월 24일\n",
      "=====\n"
     ]
    }
   ],
   "source": [
    "# 얻어온 리스트 정보들을 인덱스 번호에 맞게 처리\n",
    "for i in range(len(title_list)):\n",
    "    print(title_list[i])\n",
    "    print(price_list[i])\n",
    "    print(author_list[i])\n",
    "    print(\"=====\")"
   ]
  },
  {
   "cell_type": "markdown",
   "id": "89735d8f",
   "metadata": {},
   "source": [
    "### codecs 라이브러리\n",
    "\n",
    "- 파이썬 3.5버전 들어서 내장 라이브러리로 바뀜(예전에는 cmd창에서 pip install codecs로 설치해야 했음)\n",
    "- 파이썬으로 텍스트파일을 제어할 수 있도록(읽어오기, 쓰기 등) 도와줌\n",
    "- 콘솔창에 출력된 내용을 txt파일로 옮겨서 출력할 때 사용\n",
    "<br><br>\n",
    "- 특이사항\n",
    "    - 개행은 \\r\\n으로 처리함 (지금은 \\n 도 가능)\n",
    "    - mode => w(기존에 있던 자료를 없애고 새로 파일 입력)\n",
    "    - mode => a(기존에 있던 자료에 이어서 계속 입력)\n",
    "    - mode => r(텍스트파일에 있던 내용 읽어오기)"
   ]
  },
  {
   "cell_type": "code",
   "execution_count": 74,
   "id": "55eff170",
   "metadata": {},
   "outputs": [],
   "source": [
    "# 라이브러리 임포트\n",
    "import codecs"
   ]
  },
  {
   "cell_type": "code",
   "execution_count": 75,
   "id": "07463fcb",
   "metadata": {},
   "outputs": [],
   "source": [
    "# f변수가 텍스트 변수 그 자체처럼 사용돰.\n",
    "# .open(파일경로(파일이 해당 경로에 없으면 생성), encoding=\"인코딩방식\", mode=\"모드\")\n",
    "\n",
    "f = codecs.open(\"C:/crawler1/test.txt\", encoding=\"utf-8\", mode=\"a\")\n",
    "\n",
    "#loop = 0\n",
    "#while loop <= 9:\n",
    "#    loop += 1\n",
    "#    f.write(\"hello world\")\n",
    "    \n",
    "for i in range(10):\n",
    "    f.write(\"hello world\\n\")\n",
    "\n",
    "# 파일을 닫아주지 않으면 삭제 및 수정 불가능\n",
    "f.close()"
   ]
  },
  {
   "cell_type": "code",
   "execution_count": 76,
   "id": "45f141d2",
   "metadata": {},
   "outputs": [],
   "source": [
    "# 기존 텍스트자료 읽어오기\n",
    "f = codecs.open(\"C:/crawler1/test.txt\", encoding=\"utf-8\", mode=\"r\")\n",
    "\n",
    "# 줄 하나 단위로 하나하나의 자료를 나눠서 리스트로 만듦\n",
    "f.readlines()\n",
    "\n",
    "# readlines나 readline은 한 셀에서는 하나만 실행됨\n",
    "# 전체 데이터 하나의 문자열로 읽어오기\n",
    "f.readline()\n",
    "\n",
    "f.close()"
   ]
  },
  {
   "cell_type": "code",
   "execution_count": 78,
   "id": "399e5563",
   "metadata": {},
   "outputs": [],
   "source": [
    "# 얻어온 리스트 정보들을 인덱스 번호에 맞게 처리 <- 셀의 구문을 이용해서\n",
    "# txt 파일 형식으로 c:\\crawler1 폴더 내에 result.txt로 저장해주세요.\n",
    "f = codecs.open(\"C:/crawler1/result.txt\", encoding=\"utf-8\", mode=\"w\")\n",
    "\n",
    "for i in range(len(title_list)):\n",
    "    f.write(title_list[i] + \"\\n\")\n",
    "    f.write(price_list[i] + \"\\n\")\n",
    "    f.write(author_list[i] + \"\\n\")\n",
    "    f.write(\"==========\\n\")\n",
    "f.close()"
   ]
  },
  {
   "cell_type": "markdown",
   "id": "b0a523aa",
   "metadata": {},
   "source": [
    "# csv(excel)형식으로 뽑기\n",
    "\n",
    "- csv는 , 로 텍스트파일을 구분해 만든다음\n",
    "- csv로 확장자를 바꾸면 엑셀형식으로 나열된 데이터가 나옵니다.\n",
    "- 그래서 , 를 이용해 구분한다는 점 때문에 , 가 들어간 데이터에는 쓸 수 없습니다."
   ]
  },
  {
   "cell_type": "code",
   "execution_count": 80,
   "id": "e5b9d705",
   "metadata": {},
   "outputs": [],
   "source": [
    "# 얻어온 리스트 정보들을 인덱스 번호에 맞게 처리 <- 셀의 구문을 이용해서\n",
    "# txt 파일 형식으로 c:\\crawler1 폴더 내에 result2.txt로 저장해주세요.\n",
    "# 제목, 가격, 저자가 한 줄로 나오도록 해서\n",
    "# 컬럼명에 제목 가격 저자를 넣으시고\n",
    "# 두 번째 줄부터 순서대로 책 목록이 나오게 해주세요.\n",
    "f = codecs.open(\"C:/crawler1/result2.txt\", mode=\"w\")\n",
    "f.write(\"책,가격,저자\\n\")\n",
    "for i in range(len(title_list)):\n",
    "    f.write(title_list[i] + \",\" )\n",
    "    f.write(price_list[i].replace(\"원\", \"\").replace(\",\", \"\") + \",\")\n",
    "    f.write(author_list[i] + \"\\r\\n\")\n",
    "\n",
    "f.close()"
   ]
  },
  {
   "cell_type": "code",
   "execution_count": null,
   "id": "06797828",
   "metadata": {},
   "outputs": [],
   "source": []
  }
 ],
 "metadata": {
  "kernelspec": {
   "display_name": "Python 3 (ipykernel)",
   "language": "python",
   "name": "python3"
  },
  "language_info": {
   "codemirror_mode": {
    "name": "ipython",
    "version": 3
   },
   "file_extension": ".py",
   "mimetype": "text/x-python",
   "name": "python",
   "nbconvert_exporter": "python",
   "pygments_lexer": "ipython3",
   "version": "3.9.12"
  }
 },
 "nbformat": 4,
 "nbformat_minor": 5
}
