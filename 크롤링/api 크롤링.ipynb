{
 "cells": [
  {
   "cell_type": "markdown",
   "id": "439abcf4",
   "metadata": {},
   "source": [
    "# 영진위 api 크롤링\n",
    "\n",
    "http://kobis.or.kr/kobisopenapi/webservice/rest/boxoffice/searchDailyBoxOfficeList.json?key=f5eef3421c602c6cb7ea224104795888&targetDt=20120101\n",
    "<br>\n",
    "위 주소를 보면 파라미터로<br>\n",
    "key와 targetDt가 있는걸 볼 수 있습니다.<br>\n",
    "<br>\n",
    "여기서 key는 회원가입을 하면 발급해주는 개인 식별용 키입니다.<br>\n",
    "키를 발급해주는 이유는 일일 요청 횟수를 제한해서 서버 메모리를 절약하기 위함입니다.<br>\n",
    "\n",
    "targetDt는 타켓 날짜로, 현재 이 api 요청 주소는 일일 박스오피스 입니다.\n",
    "\n",
    "api 서버 접근시 파이썬에서는 보통 urllib.request를 활용합니다.\n"
   ]
  },
  {
   "cell_type": "code",
   "execution_count": 2,
   "id": "37ac0b5d",
   "metadata": {},
   "outputs": [],
   "source": [
    "# 사이트에 자료 요청용 라이브러리 임포트\n",
    "import urllib.request\n",
    "# json데이터 핸들링용\n",
    "import json\n",
    "import xml"
   ]
  },
  {
   "cell_type": "code",
   "execution_count": 42,
   "id": "8e904cc3",
   "metadata": {},
   "outputs": [
    {
     "name": "stdout",
     "output_type": "stream",
     "text": [
      "http://kobis.or.kr/kobisopenapi/webservice/rest/boxoffice/searchDailyBoxOfficeList.json?key=f5eef3421c602c6cb7ea224104795888&targetDt=20120101\n"
     ]
    }
   ],
   "source": [
    "key = \"f5eef3421c602c6cb7ea224104795888\"\n",
    "target_dt = \"20120101\"\n",
    "request_url = \"http://kobis.or.kr/kobisopenapi/webservice/rest/\\\n",
    "boxoffice/searchDailyBoxOfficeList.json?key=%s&targetDt=%s\" % (key, target_dt)\n",
    "print(request_url)"
   ]
  },
  {
   "cell_type": "code",
   "execution_count": 43,
   "id": "226427c7",
   "metadata": {},
   "outputs": [
    {
     "data": {
      "text/plain": [
       "<http.client.HTTPResponse at 0x2854c2ab6d0>"
      ]
     },
     "execution_count": 43,
     "metadata": {},
     "output_type": "execute_result"
    }
   ],
   "source": [
    "# 위에 세팅된 주소로 요청을 넣어보겠습니다.\n",
    "result = urllib.request.urlopen(request_url)\n",
    "# 결과물은 http.client.httpresponse 객체로 주어집니다.\n",
    "result"
   ]
  },
  {
   "cell_type": "code",
   "execution_count": 44,
   "id": "9d72486b",
   "metadata": {},
   "outputs": [
    {
     "name": "stdout",
     "output_type": "stream",
     "text": [
      "b'{\"boxOfficeResult\":{\"boxofficeType\":\"\\xec\\x9d\\xbc\\xeb\\xb3\\x84 \\xeb\\xb0\\x95\\xec\\x8a\\xa4\\xec\\x98\\xa4\\xed\\x94\\xbc\\xec\\x8a\\xa4\",\"showRange\":\"20120101~20120101\",\"dailyBoxOfficeList\":[{\"rnum\":\"1\",\"rank\":\"1\",\"rankInten\":\"0\",\"rankOldAndNew\":\"OLD\",\"movieCd\":\"20112207\",\"movieNm\":\"\\xeb\\xaf\\xb8\\xec\\x85\\x98\\xec\\x9e\\x84\\xed\\x8c\\x8c\\xec\\x84\\x9c\\xeb\\xb8\\x94:\\xea\\xb3\\xa0\\xec\\x8a\\xa4\\xed\\x8a\\xb8\\xed\\x94\\x84\\xeb\\xa1\\x9c\\xed\\x86\\xa0\\xec\\xbd\\x9c\",\"openDt\":\"2011-12-15\",\"salesAmt\":\"2776060500\",\"salesShare\":\"36.3\",\"salesInten\":\"-415699000\",\"salesChange\":\"-13\",\"salesAcc\":\"40541108500\",\"audiCnt\":\"353274\",\"audiInten\":\"-60106\",\"audiChange\":\"-14.5\",\"audiAcc\":\"5328435\",\"scrnCnt\":\"697\",\"showCnt\":\"3223\"},{\"rnum\":\"2\",\"rank\":\"2\",\"rankInten\":\"1\",\"rankOldAndNew\":\"OLD\",\"movieCd\":\"20110295\",\"movieNm\":\"\\xeb\\xa7\\x88\\xec\\x9d\\xb4 \\xec\\x9b\\xa8\\xec\\x9d\\xb4\",\"openDt\":\"2011-12-21\",\"salesAmt\":\"1189058500\",\"salesShare\":\"15.6\",\"salesInten\":\"-105894500\",\"salesChange\":\"-8.2\",\"salesAcc\":\"13002897500\",\"audiCnt\":\"153501\",\"audiInten\":\"-16465\",\"audiChange\":\"-9.7\",\"audiAcc\":\"1739543\",\"scrnCnt\":\"588\",\"showCnt\":\"2321\"},{\"rnum\":\"3\",\"rank\":\"3\",\"rankInten\":\"-1\",\"rankOldAndNew\":\"OLD\",\"movieCd\":\"20112621\",\"movieNm\":\"\\xec\\x85\\x9c\\xeb\\xa1\\x9d\\xed\\x99\\x88\\xec\\xa6\\x88 : \\xea\\xb7\\xb8\\xeb\\xa6\\xbc\\xec\\x9e\\x90 \\xea\\xb2\\x8c\\xec\\x9e\\x84\",\"openDt\":\"2011-12-21\",\"salesAmt\":\"1176022500\",\"salesShare\":\"15.4\",\"salesInten\":\"-210328500\",\"salesChange\":\"-15.2\",\"salesAcc\":\"10678327500\",\"audiCnt\":\"153004\",\"audiInten\":\"-31283\",\"audiChange\":\"-17\",\"audiAcc\":\"1442861\",\"scrnCnt\":\"360\",\"showCnt\":\"1832\"},{\"rnum\":\"4\",\"rank\":\"4\",\"rankInten\":\"0\",\"rankOldAndNew\":\"OLD\",\"movieCd\":\"20113260\",\"movieNm\":\"\\xed\\x8d\\xbc\\xed\\x8e\\x99\\xed\\x8a\\xb8 \\xea\\xb2\\x8c\\xec\\x9e\\x84\",\"openDt\":\"2011-12-21\",\"salesAmt\":\"644532000\",\"salesShare\":\"8.4\",\"salesInten\":\"-75116500\",\"salesChange\":\"-10.4\",\"salesAcc\":\"6640940000\",\"audiCnt\":\"83644\",\"audiInten\":\"-12225\",\"audiChange\":\"-12.8\",\"audiAcc\":\"895416\",\"scrnCnt\":\"396\",\"showCnt\":\"1364\"},{\"rnum\":\"5\",\"rank\":\"5\",\"rankInten\":\"0\",\"rankOldAndNew\":\"OLD\",\"movieCd\":\"20113271\",\"movieNm\":\"\\xed\\x94\\x84\\xeb\\xa0\\x8c\\xec\\xa6\\x88: \\xeb\\xaa\\xac\\xec\\x8a\\xa4\\xed\\x84\\xb0\\xec\\x84\\xac\\xec\\x9d\\x98\\xeb\\xb9\\x84\\xeb\\xb0\\x80 \",\"openDt\":\"2011-12-29\",\"salesAmt\":\"436753500\",\"salesShare\":\"5.7\",\"salesInten\":\"-89051000\",\"salesChange\":\"-16.9\",\"salesAcc\":\"1523037000\",\"audiCnt\":\"55092\",\"audiInten\":\"-15568\",\"audiChange\":\"-22\",\"audiAcc\":\"202909\",\"scrnCnt\":\"290\",\"showCnt\":\"838\"},{\"rnum\":\"6\",\"rank\":\"6\",\"rankInten\":\"1\",\"rankOldAndNew\":\"OLD\",\"movieCd\":\"19940256\",\"movieNm\":\"\\xeb\\x9d\\xbc\\xec\\x9d\\xb4\\xec\\x98\\xa8 \\xed\\x82\\xb9\",\"openDt\":\"1994-07-02\",\"salesAmt\":\"507115500\",\"salesShare\":\"6.6\",\"salesInten\":\"-114593500\",\"salesChange\":\"-18.4\",\"salesAcc\":\"1841625000\",\"audiCnt\":\"45750\",\"audiInten\":\"-11699\",\"audiChange\":\"-20.4\",\"audiAcc\":\"171285\",\"scrnCnt\":\"244\",\"showCnt\":\"895\"},{\"rnum\":\"7\",\"rank\":\"7\",\"rankInten\":\"-1\",\"rankOldAndNew\":\"OLD\",\"movieCd\":\"20113381\",\"movieNm\":\"\\xec\\x98\\xa4\\xec\\x8b\\xb9\\xed\\x95\\x9c \\xec\\x97\\xb0\\xec\\x95\\xa0\",\"openDt\":\"2011-12-01\",\"salesAmt\":\"344871000\",\"salesShare\":\"4.5\",\"salesInten\":\"-107005500\",\"salesChange\":\"-23.7\",\"salesAcc\":\"20634684500\",\"audiCnt\":\"45062\",\"audiInten\":\"-15926\",\"audiChange\":\"-26.1\",\"audiAcc\":\"2823060\",\"scrnCnt\":\"243\",\"showCnt\":\"839\"},{\"rnum\":\"8\",\"rank\":\"8\",\"rankInten\":\"0\",\"rankOldAndNew\":\"OLD\",\"movieCd\":\"20112709\",\"movieNm\":\"\\xea\\xb7\\xb9\\xec\\x9e\\xa5\\xed\\x8c\\x90 \\xed\\x8f\\xac\\xec\\xbc\\x93\\xeb\\xaa\\xac\\xec\\x8a\\xa4\\xed\\x84\\xb0 \\xeb\\xb2\\xa0\\xec\\x8a\\xa4\\xed\\x8a\\xb8 \\xec\\x9c\\x84\\xec\\x8b\\x9c\\xe3\\x80\\x8c\\xeb\\xb9\\x84\\xed\\x81\\xac\\xed\\x8b\\xb0\\xeb\\x8b\\x88\\xec\\x99\\x80 \\xeb\\xb0\\xb1\\xec\\x9d\\x98 \\xec\\x98\\x81\\xec\\x9b\\x85 \\xeb\\xa0\\x88\\xec\\x8b\\x9c\\xeb\\x9d\\xbc\\xeb\\xac\\xb4\\xe3\\x80\\x8d\",\"openDt\":\"2011-12-22\",\"salesAmt\":\"167809500\",\"salesShare\":\"2.2\",\"salesInten\":\"-45900500\",\"salesChange\":\"-21.5\",\"salesAcc\":\"1897120000\",\"audiCnt\":\"24202\",\"audiInten\":\"-7756\",\"audiChange\":\"-24.3\",\"audiAcc\":\"285959\",\"scrnCnt\":\"186\",\"showCnt\":\"348\"},{\"rnum\":\"9\",\"rank\":\"9\",\"rankInten\":\"0\",\"rankOldAndNew\":\"OLD\",\"movieCd\":\"20113311\",\"movieNm\":\"\\xec\\x95\\xa8\\xeb\\xb9\\x88\\xea\\xb3\\xbc \\xec\\x8a\\x88\\xed\\x8d\\xbc\\xeb\\xb0\\xb4\\xeb\\x93\\x9c3\",\"openDt\":\"2011-12-15\",\"salesAmt\":\"137030000\",\"salesShare\":\"1.8\",\"salesInten\":\"-35408000\",\"salesChange\":\"-20.5\",\"salesAcc\":\"3416675000\",\"audiCnt\":\"19729\",\"audiInten\":\"-6461\",\"audiChange\":\"-24.7\",\"audiAcc\":\"516289\",\"scrnCnt\":\"169\",\"showCnt\":\"359\"},{\"rnum\":\"10\",\"rank\":\"10\",\"rankInten\":\"0\",\"rankOldAndNew\":\"OLD\",\"movieCd\":\"20112708\",\"movieNm\":\"\\xea\\xb7\\xb9\\xec\\x9e\\xa5\\xed\\x8c\\x90 \\xed\\x8f\\xac\\xec\\xbc\\x93\\xeb\\xaa\\xac\\xec\\x8a\\xa4\\xed\\x84\\xb0 \\xeb\\xb2\\xa0\\xec\\x8a\\xa4\\xed\\x8a\\xb8 \\xec\\x9c\\x84\\xec\\x8b\\x9c \\xe3\\x80\\x8c\\xeb\\xb9\\x84\\xed\\x81\\xac\\xed\\x8b\\xb0\\xeb\\x8b\\x88\\xec\\x99\\x80 \\xed\\x9d\\x91\\xec\\x9d\\x98 \\xec\\x98\\x81\\xec\\x9b\\x85 \\xec\\xa0\\x9c\\xed\\x81\\xac\\xeb\\xa1\\x9c\\xeb\\xac\\xb4\\xe3\\x80\\x8d\",\"openDt\":\"2011-12-22\",\"salesAmt\":\"125535500\",\"salesShare\":\"1.6\",\"salesInten\":\"-40756000\",\"salesChange\":\"-24.5\",\"salesAcc\":\"1595695000\",\"audiCnt\":\"17817\",\"audiInten\":\"-6554\",\"audiChange\":\"-26.9\",\"audiAcc\":\"235070\",\"scrnCnt\":\"175\",\"showCnt\":\"291\"}]}}'\n"
     ]
    }
   ],
   "source": [
    "# 얻어진 데이터의 json만 뽑기위해, .read()를 사용합니다.\n",
    "json_raw = result.read()\n",
    "print(json_raw)"
   ]
  },
  {
   "cell_type": "code",
   "execution_count": 36,
   "id": "0277c449",
   "metadata": {},
   "outputs": [
    {
     "name": "stdout",
     "output_type": "stream",
     "text": [
      "<class 'bytes'>\n"
     ]
    }
   ],
   "source": [
    "# byte 자료형임을 확인\n",
    "print(type(json_raw))"
   ]
  },
  {
   "cell_type": "code",
   "execution_count": 45,
   "id": "bf3c79e9",
   "metadata": {},
   "outputs": [],
   "source": [
    "# 형식을 한글을 쓸 수 있는 utf-8형식으로 고쳐야 합니다. 변형 -> encode(), 복원 ->decode()\n",
    "# encode() => 우리가 쓰는 문자를 컴퓨터가 쓰는 형태로 변환\n",
    "# decode() => 컴퓨터가 쓰는 문자를 우리가 쓰는 형태로 변환\n",
    "json_utf8 = json_raw.decode(\"utf-8\")"
   ]
  },
  {
   "cell_type": "code",
   "execution_count": 46,
   "id": "c8920791",
   "metadata": {},
   "outputs": [
    {
     "data": {
      "text/plain": [
       "str"
      ]
     },
     "execution_count": 46,
     "metadata": {},
     "output_type": "execute_result"
    }
   ],
   "source": [
    "type(json_utf8)"
   ]
  },
  {
   "cell_type": "code",
   "execution_count": 52,
   "id": "ea9526e2",
   "metadata": {},
   "outputs": [
    {
     "data": {
      "text/plain": [
       "{'boxOfficeResult': {'boxofficeType': '일별 박스오피스',\n",
       "  'showRange': '20120101~20120101',\n",
       "  'dailyBoxOfficeList': [{'rnum': '1',\n",
       "    'rank': '1',\n",
       "    'rankInten': '0',\n",
       "    'rankOldAndNew': 'OLD',\n",
       "    'movieCd': '20112207',\n",
       "    'movieNm': '미션임파서블:고스트프로토콜',\n",
       "    'openDt': '2011-12-15',\n",
       "    'salesAmt': '2776060500',\n",
       "    'salesShare': '36.3',\n",
       "    'salesInten': '-415699000',\n",
       "    'salesChange': '-13',\n",
       "    'salesAcc': '40541108500',\n",
       "    'audiCnt': '353274',\n",
       "    'audiInten': '-60106',\n",
       "    'audiChange': '-14.5',\n",
       "    'audiAcc': '5328435',\n",
       "    'scrnCnt': '697',\n",
       "    'showCnt': '3223'},\n",
       "   {'rnum': '2',\n",
       "    'rank': '2',\n",
       "    'rankInten': '1',\n",
       "    'rankOldAndNew': 'OLD',\n",
       "    'movieCd': '20110295',\n",
       "    'movieNm': '마이 웨이',\n",
       "    'openDt': '2011-12-21',\n",
       "    'salesAmt': '1189058500',\n",
       "    'salesShare': '15.6',\n",
       "    'salesInten': '-105894500',\n",
       "    'salesChange': '-8.2',\n",
       "    'salesAcc': '13002897500',\n",
       "    'audiCnt': '153501',\n",
       "    'audiInten': '-16465',\n",
       "    'audiChange': '-9.7',\n",
       "    'audiAcc': '1739543',\n",
       "    'scrnCnt': '588',\n",
       "    'showCnt': '2321'},\n",
       "   {'rnum': '3',\n",
       "    'rank': '3',\n",
       "    'rankInten': '-1',\n",
       "    'rankOldAndNew': 'OLD',\n",
       "    'movieCd': '20112621',\n",
       "    'movieNm': '셜록홈즈 : 그림자 게임',\n",
       "    'openDt': '2011-12-21',\n",
       "    'salesAmt': '1176022500',\n",
       "    'salesShare': '15.4',\n",
       "    'salesInten': '-210328500',\n",
       "    'salesChange': '-15.2',\n",
       "    'salesAcc': '10678327500',\n",
       "    'audiCnt': '153004',\n",
       "    'audiInten': '-31283',\n",
       "    'audiChange': '-17',\n",
       "    'audiAcc': '1442861',\n",
       "    'scrnCnt': '360',\n",
       "    'showCnt': '1832'},\n",
       "   {'rnum': '4',\n",
       "    'rank': '4',\n",
       "    'rankInten': '0',\n",
       "    'rankOldAndNew': 'OLD',\n",
       "    'movieCd': '20113260',\n",
       "    'movieNm': '퍼펙트 게임',\n",
       "    'openDt': '2011-12-21',\n",
       "    'salesAmt': '644532000',\n",
       "    'salesShare': '8.4',\n",
       "    'salesInten': '-75116500',\n",
       "    'salesChange': '-10.4',\n",
       "    'salesAcc': '6640940000',\n",
       "    'audiCnt': '83644',\n",
       "    'audiInten': '-12225',\n",
       "    'audiChange': '-12.8',\n",
       "    'audiAcc': '895416',\n",
       "    'scrnCnt': '396',\n",
       "    'showCnt': '1364'},\n",
       "   {'rnum': '5',\n",
       "    'rank': '5',\n",
       "    'rankInten': '0',\n",
       "    'rankOldAndNew': 'OLD',\n",
       "    'movieCd': '20113271',\n",
       "    'movieNm': '프렌즈: 몬스터섬의비밀 ',\n",
       "    'openDt': '2011-12-29',\n",
       "    'salesAmt': '436753500',\n",
       "    'salesShare': '5.7',\n",
       "    'salesInten': '-89051000',\n",
       "    'salesChange': '-16.9',\n",
       "    'salesAcc': '1523037000',\n",
       "    'audiCnt': '55092',\n",
       "    'audiInten': '-15568',\n",
       "    'audiChange': '-22',\n",
       "    'audiAcc': '202909',\n",
       "    'scrnCnt': '290',\n",
       "    'showCnt': '838'},\n",
       "   {'rnum': '6',\n",
       "    'rank': '6',\n",
       "    'rankInten': '1',\n",
       "    'rankOldAndNew': 'OLD',\n",
       "    'movieCd': '19940256',\n",
       "    'movieNm': '라이온 킹',\n",
       "    'openDt': '1994-07-02',\n",
       "    'salesAmt': '507115500',\n",
       "    'salesShare': '6.6',\n",
       "    'salesInten': '-114593500',\n",
       "    'salesChange': '-18.4',\n",
       "    'salesAcc': '1841625000',\n",
       "    'audiCnt': '45750',\n",
       "    'audiInten': '-11699',\n",
       "    'audiChange': '-20.4',\n",
       "    'audiAcc': '171285',\n",
       "    'scrnCnt': '244',\n",
       "    'showCnt': '895'},\n",
       "   {'rnum': '7',\n",
       "    'rank': '7',\n",
       "    'rankInten': '-1',\n",
       "    'rankOldAndNew': 'OLD',\n",
       "    'movieCd': '20113381',\n",
       "    'movieNm': '오싹한 연애',\n",
       "    'openDt': '2011-12-01',\n",
       "    'salesAmt': '344871000',\n",
       "    'salesShare': '4.5',\n",
       "    'salesInten': '-107005500',\n",
       "    'salesChange': '-23.7',\n",
       "    'salesAcc': '20634684500',\n",
       "    'audiCnt': '45062',\n",
       "    'audiInten': '-15926',\n",
       "    'audiChange': '-26.1',\n",
       "    'audiAcc': '2823060',\n",
       "    'scrnCnt': '243',\n",
       "    'showCnt': '839'},\n",
       "   {'rnum': '8',\n",
       "    'rank': '8',\n",
       "    'rankInten': '0',\n",
       "    'rankOldAndNew': 'OLD',\n",
       "    'movieCd': '20112709',\n",
       "    'movieNm': '극장판 포켓몬스터 베스트 위시「비크티니와 백의 영웅 레시라무」',\n",
       "    'openDt': '2011-12-22',\n",
       "    'salesAmt': '167809500',\n",
       "    'salesShare': '2.2',\n",
       "    'salesInten': '-45900500',\n",
       "    'salesChange': '-21.5',\n",
       "    'salesAcc': '1897120000',\n",
       "    'audiCnt': '24202',\n",
       "    'audiInten': '-7756',\n",
       "    'audiChange': '-24.3',\n",
       "    'audiAcc': '285959',\n",
       "    'scrnCnt': '186',\n",
       "    'showCnt': '348'},\n",
       "   {'rnum': '9',\n",
       "    'rank': '9',\n",
       "    'rankInten': '0',\n",
       "    'rankOldAndNew': 'OLD',\n",
       "    'movieCd': '20113311',\n",
       "    'movieNm': '앨빈과 슈퍼밴드3',\n",
       "    'openDt': '2011-12-15',\n",
       "    'salesAmt': '137030000',\n",
       "    'salesShare': '1.8',\n",
       "    'salesInten': '-35408000',\n",
       "    'salesChange': '-20.5',\n",
       "    'salesAcc': '3416675000',\n",
       "    'audiCnt': '19729',\n",
       "    'audiInten': '-6461',\n",
       "    'audiChange': '-24.7',\n",
       "    'audiAcc': '516289',\n",
       "    'scrnCnt': '169',\n",
       "    'showCnt': '359'},\n",
       "   {'rnum': '10',\n",
       "    'rank': '10',\n",
       "    'rankInten': '0',\n",
       "    'rankOldAndNew': 'OLD',\n",
       "    'movieCd': '20112708',\n",
       "    'movieNm': '극장판 포켓몬스터 베스트 위시 「비크티니와 흑의 영웅 제크로무」',\n",
       "    'openDt': '2011-12-22',\n",
       "    'salesAmt': '125535500',\n",
       "    'salesShare': '1.6',\n",
       "    'salesInten': '-40756000',\n",
       "    'salesChange': '-24.5',\n",
       "    'salesAcc': '1595695000',\n",
       "    'audiCnt': '17817',\n",
       "    'audiInten': '-6554',\n",
       "    'audiChange': '-26.9',\n",
       "    'audiAcc': '235070',\n",
       "    'scrnCnt': '175',\n",
       "    'showCnt': '291'}]}}"
      ]
     },
     "execution_count": 52,
     "metadata": {},
     "output_type": "execute_result"
    }
   ],
   "source": [
    "# json.loads(딕셔너리 형태의 문자열)\n",
    "# json(딕셔너리) 형태로 적힌 문자열 자료를 딕셔너리로 변환\n",
    "json.loads(json_utf8)"
   ]
  },
  {
   "cell_type": "code",
   "execution_count": 53,
   "id": "021c4460",
   "metadata": {},
   "outputs": [
    {
     "name": "stdout",
     "output_type": "stream",
     "text": [
      "b'{\"boxOfficeResult\":{\"boxofficeType\":\"\\xec\\x9d\\xbc\\xeb\\xb3\\x84 \\xeb\\xb0\\x95\\xec\\x8a\\xa4\\xec\\x98\\xa4\\xed\\x94\\xbc\\xec\\x8a\\xa4\",\"showRange\":\"20150911~20150911\",\"dailyBoxOfficeList\":[{\"rnum\":\"1\",\"rank\":\"1\",\"rankInten\":\"0\",\"rankOldAndNew\":\"OLD\",\"movieCd\":\"20155702\",\"movieNm\":\"\\xec\\x95\\xa4\\xed\\x8a\\xb8\\xeb\\xa7\\xa8\",\"openDt\":\"2015-09-03\",\"salesAmt\":\"1069757681\",\"salesShare\":\"37.8\",\"salesInten\":\"451988981\",\"salesChange\":\"73.2\",\"salesAcc\":\"15148359881\",\"audiCnt\":\"128182\",\"audiInten\":\"50996\",\"audiChange\":\"66.1\",\"audiAcc\":\"1809051\",\"scrnCnt\":\"851\",\"showCnt\":\"4575\"},{\"rnum\":\"2\",\"rank\":\"2\",\"rankInten\":\"0\",\"rankOldAndNew\":\"OLD\",\"movieCd\":\"20148048\",\"movieNm\":\"\\xeb\\xb2\\xa0\\xed\\x85\\x8c\\xeb\\x9e\\x91\",\"openDt\":\"2015-08-05\",\"salesAmt\":\"579609300\",\"salesShare\":\"20.5\",\"salesInten\":\"186774900\",\"salesChange\":\"47.5\",\"salesAcc\":\"95457638632\",\"audiCnt\":\"72154\",\"audiInten\":\"19559\",\"audiChange\":\"37.2\",\"audiAcc\":\"12189729\",\"scrnCnt\":\"633\",\"showCnt\":\"2928\"},{\"rnum\":\"3\",\"rank\":\"3\",\"rankInten\":\"0\",\"rankOldAndNew\":\"OLD\",\"movieCd\":\"20143510\",\"movieNm\":\"\\xed\\x95\\xa8\\xec\\xa0\\x95\",\"openDt\":\"2015-09-10\",\"salesAmt\":\"322912800\",\"salesShare\":\"11.4\",\"salesInten\":\"72657000\",\"salesChange\":\"29\",\"salesAcc\":\"631762600\",\"audiCnt\":\"39065\",\"audiInten\":\"6788\",\"audiChange\":\"21\",\"audiAcc\":\"80520\",\"scrnCnt\":\"393\",\"showCnt\":\"1300\"},{\"rnum\":\"4\",\"rank\":\"4\",\"rankInten\":\"0\",\"rankOldAndNew\":\"OLD\",\"movieCd\":\"20143572\",\"movieNm\":\"\\xeb\\xb7\\xb0\\xed\\x8b\\xb0 \\xec\\x9d\\xb8\\xec\\x82\\xac\\xec\\x9d\\xb4\\xeb\\x93\\x9c\",\"openDt\":\"2015-08-20\",\"salesAmt\":\"195970498\",\"salesShare\":\"6.9\",\"salesInten\":\"70777998\",\"salesChange\":\"56.5\",\"salesAcc\":\"14881229110\",\"audiCnt\":\"23908\",\"audiInten\":\"7585\",\"audiChange\":\"46.5\",\"audiAcc\":\"1895617\",\"scrnCnt\":\"347\",\"showCnt\":\"1090\"},{\"rnum\":\"5\",\"rank\":\"5\",\"rankInten\":\"0\",\"rankOldAndNew\":\"OLD\",\"movieCd\":\"20151521\",\"movieNm\":\"\\xec\\x85\\x80\\xed\\x94\\x84/\\xeb\\xa6\\xac\\xec\\x8a\\xa4\",\"openDt\":\"2015-09-10\",\"salesAmt\":\"145831817\",\"salesShare\":\"5.2\",\"salesInten\":\"32181317\",\"salesChange\":\"28.3\",\"salesAcc\":\"263924317\",\"audiCnt\":\"18494\",\"audiInten\":\"3353\",\"audiChange\":\"22.1\",\"audiAcc\":\"34155\",\"scrnCnt\":\"340\",\"showCnt\":\"1141\"},{\"rnum\":\"6\",\"rank\":\"6\",\"rankInten\":\"1\",\"rankOldAndNew\":\"OLD\",\"movieCd\":\"20143511\",\"movieNm\":\"\\xec\\x98\\xa4\\xed\\x94\\xbc\\xec\\x8a\\xa4\",\"openDt\":\"2015-09-03\",\"salesAmt\":\"136722502\",\"salesShare\":\"4.8\",\"salesInten\":\"55401002\",\"salesChange\":\"68.1\",\"salesAcc\":\"2865677751\",\"audiCnt\":\"17423\",\"audiInten\":\"6629\",\"audiChange\":\"61.4\",\"audiAcc\":\"365406\",\"scrnCnt\":\"333\",\"showCnt\":\"1008\"},{\"rnum\":\"7\",\"rank\":\"7\",\"rankInten\":\"-1\",\"rankOldAndNew\":\"OLD\",\"movieCd\":\"20148851\",\"movieNm\":\"\\xec\\x95\\x94\\xec\\x82\\xb4\",\"openDt\":\"2015-07-22\",\"salesAmt\":\"125367500\",\"salesShare\":\"4.4\",\"salesInten\":\"33703200\",\"salesChange\":\"36.8\",\"salesAcc\":\"97462179981\",\"audiCnt\":\"16259\",\"audiInten\":\"3566\",\"audiChange\":\"28.1\",\"audiAcc\":\"12576439\",\"scrnCnt\":\"368\",\"showCnt\":\"858\"},{\"rnum\":\"8\",\"rank\":\"8\",\"rankInten\":\"0\",\"rankOldAndNew\":\"OLD\",\"movieCd\":\"20154162\",\"movieNm\":\"\\xec\\x8a\\xa4\\xed\\x8a\\xb8\\xeb\\xa0\\x88\\xec\\x9d\\xb4\\xed\\x8a\\xb8 \\xec\\x95\\x84\\xec\\x9b\\x83 \\xec\\x98\\xa4\\xeb\\xb8\\x8c \\xec\\xbb\\xb4\\xed\\x84\\xb4\",\"openDt\":\"2015-09-10\",\"salesAmt\":\"47675100\",\"salesShare\":\"1.7\",\"salesInten\":\"13061400\",\"salesChange\":\"37.7\",\"salesAcc\":\"87576800\",\"audiCnt\":\"5559\",\"audiInten\":\"1166\",\"audiChange\":\"26.5\",\"audiAcc\":\"10538\",\"scrnCnt\":\"184\",\"showCnt\":\"359\"},{\"rnum\":\"9\",\"rank\":\"9\",\"rankInten\":\"1\",\"rankOldAndNew\":\"OLD\",\"movieCd\":\"20143513\",\"movieNm\":\"\\xeb\\xaf\\xb8\\xec\\x93\\xb0 \\xec\\x99\\x80\\xec\\x9d\\xb4\\xed\\x94\\x84\",\"openDt\":\"2015-08-13\",\"salesAmt\":\"20466100\",\"salesShare\":\"0.7\",\"salesInten\":\"2603400\",\"salesChange\":\"14.6\",\"salesAcc\":\"7215468866\",\"audiCnt\":\"2766\",\"audiInten\":\"71\",\"audiChange\":\"2.6\",\"audiAcc\":\"962433\",\"scrnCnt\":\"121\",\"showCnt\":\"232\"},{\"rnum\":\"10\",\"rank\":\"10\",\"rankInten\":\"2\",\"rankOldAndNew\":\"OLD\",\"movieCd\":\"20153039\",\"movieNm\":\"\\xeb\\x9f\\xac\\xeb\\xb8\\x8c \\xeb\\x9d\\xbc\\xec\\x9d\\xb4\\xeb\\xb8\\x8c! \\xeb\\x8d\\x94 \\xec\\x8a\\xa4\\xec\\xbf\\xa8 \\xec\\x95\\x84\\xec\\x9d\\xb4\\xeb\\x8f\\x8c \\xeb\\xac\\xb4\\xeb\\xb9\\x84\",\"openDt\":\"2015-09-03\",\"salesAmt\":\"14466000\",\"salesShare\":\"0.5\",\"salesInten\":\"-2219000\",\"salesChange\":\"-13.3\",\"salesAcc\":\"308879000\",\"audiCnt\":\"1879\",\"audiInten\":\"-388\",\"audiChange\":\"-17.1\",\"audiAcc\":\"38728\",\"scrnCnt\":\"46\",\"showCnt\":\"91\"}]}}'\n"
     ]
    }
   ],
   "source": [
    "# 일별 박스오피스에서 원하는 날짜의 json 데이터를 받아서 decode(utf-8)까지 해주세요. 단, 1~3위까지만 받아옵니다.\n",
    "key = \"f5eef3421c602c6cb7ea224104795888\"\n",
    "target_dt = \"20150911\"\n",
    "request_url = \"http://kobis.or.kr/kobisopenapi/webservice/rest/\\\n",
    "boxoffice/searchDailyBoxOfficeList.json?key=%s&targetDt=%s\" % (key, target_dt)\n",
    "result = urllib.request.urlopen(request_url)\n",
    "json_raw = result.read()\n",
    "print(json_raw)\n",
    "json_utf8 = json_raw.decode(\"utf-8\")"
   ]
  },
  {
   "cell_type": "code",
   "execution_count": 77,
   "id": "e7113253",
   "metadata": {},
   "outputs": [],
   "source": [
    "for i in range(0,3):\n",
    "    json.loads(json_utf8)['boxOfficeResult']['dailyBoxOfficeList'][i]"
   ]
  },
  {
   "cell_type": "code",
   "execution_count": 78,
   "id": "f9fff18a",
   "metadata": {},
   "outputs": [
    {
     "data": {
      "text/plain": [
       "{'rnum': '1',\n",
       " 'rank': '1',\n",
       " 'rankInten': '0',\n",
       " 'rankOldAndNew': 'OLD',\n",
       " 'movieCd': '20155702',\n",
       " 'movieNm': '앤트맨',\n",
       " 'openDt': '2015-09-03',\n",
       " 'salesAmt': '1069757681',\n",
       " 'salesShare': '37.8',\n",
       " 'salesInten': '451988981',\n",
       " 'salesChange': '73.2',\n",
       " 'salesAcc': '15148359881',\n",
       " 'audiCnt': '128182',\n",
       " 'audiInten': '50996',\n",
       " 'audiChange': '66.1',\n",
       " 'audiAcc': '1809051',\n",
       " 'scrnCnt': '851',\n",
       " 'showCnt': '4575'}"
      ]
     },
     "execution_count": 78,
     "metadata": {},
     "output_type": "execute_result"
    }
   ],
   "source": [
    "json.loads(json_utf8)['boxOfficeResult']['dailyBoxOfficeList'][0]"
   ]
  },
  {
   "cell_type": "code",
   "execution_count": 79,
   "id": "dacfec6a",
   "metadata": {},
   "outputs": [
    {
     "data": {
      "text/plain": [
       "{'rnum': '2',\n",
       " 'rank': '2',\n",
       " 'rankInten': '0',\n",
       " 'rankOldAndNew': 'OLD',\n",
       " 'movieCd': '20148048',\n",
       " 'movieNm': '베테랑',\n",
       " 'openDt': '2015-08-05',\n",
       " 'salesAmt': '579609300',\n",
       " 'salesShare': '20.5',\n",
       " 'salesInten': '186774900',\n",
       " 'salesChange': '47.5',\n",
       " 'salesAcc': '95457638632',\n",
       " 'audiCnt': '72154',\n",
       " 'audiInten': '19559',\n",
       " 'audiChange': '37.2',\n",
       " 'audiAcc': '12189729',\n",
       " 'scrnCnt': '633',\n",
       " 'showCnt': '2928'}"
      ]
     },
     "execution_count": 79,
     "metadata": {},
     "output_type": "execute_result"
    }
   ],
   "source": [
    "json.loads(json_utf8)['boxOfficeResult']['dailyBoxOfficeList'][1]"
   ]
  },
  {
   "cell_type": "code",
   "execution_count": 81,
   "id": "a73344e5",
   "metadata": {},
   "outputs": [
    {
     "data": {
      "text/plain": [
       "{'rnum': '3',\n",
       " 'rank': '3',\n",
       " 'rankInten': '0',\n",
       " 'rankOldAndNew': 'OLD',\n",
       " 'movieCd': '20143510',\n",
       " 'movieNm': '함정',\n",
       " 'openDt': '2015-09-10',\n",
       " 'salesAmt': '322912800',\n",
       " 'salesShare': '11.4',\n",
       " 'salesInten': '72657000',\n",
       " 'salesChange': '29',\n",
       " 'salesAcc': '631762600',\n",
       " 'audiCnt': '39065',\n",
       " 'audiInten': '6788',\n",
       " 'audiChange': '21',\n",
       " 'audiAcc': '80520',\n",
       " 'scrnCnt': '393',\n",
       " 'showCnt': '1300'}"
      ]
     },
     "execution_count": 81,
     "metadata": {},
     "output_type": "execute_result"
    }
   ],
   "source": [
    "json.loads(json_utf8)['boxOfficeResult']['dailyBoxOfficeList'][2]"
   ]
  },
  {
   "cell_type": "code",
   "execution_count": null,
   "id": "3dfdccd8",
   "metadata": {},
   "outputs": [],
   "source": []
  },
  {
   "cell_type": "code",
   "execution_count": null,
   "id": "e6b01907",
   "metadata": {},
   "outputs": [],
   "source": []
  }
 ],
 "metadata": {
  "kernelspec": {
   "display_name": "Python 3 (ipykernel)",
   "language": "python",
   "name": "python3"
  },
  "language_info": {
   "codemirror_mode": {
    "name": "ipython",
    "version": 3
   },
   "file_extension": ".py",
   "mimetype": "text/x-python",
   "name": "python",
   "nbconvert_exporter": "python",
   "pygments_lexer": "ipython3",
   "version": "3.9.7"
  }
 },
 "nbformat": 4,
 "nbformat_minor": 5
}
