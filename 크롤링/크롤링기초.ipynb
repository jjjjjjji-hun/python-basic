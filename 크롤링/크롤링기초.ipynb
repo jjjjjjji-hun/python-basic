{
 "cells": [
  {
   "cell_type": "markdown",
   "id": "2b619a9c",
   "metadata": {},
   "source": [
    "### 크롤링\n",
    "\n",
    "- 웹에서 원하는 자료를 컴퓨터에게 수집해오도록 명령내리는 기술\n",
    "- requests 라이브러리를 활용한 다이렉트 크롤링\n",
    "- selenium 라이브러리를 활용한 간접 크롤링 등이 있다.\n",
    "- 크롤러의 역할은 원하는 정보를 가져오는것 까지이며\n",
    "- 실제 원하는 정보를 용도에 맞게 가공하는것은 beautifulsoup가 담당한다."
   ]
  },
  {
   "cell_type": "code",
   "execution_count": 2,
   "id": "6b240785",
   "metadata": {},
   "outputs": [
    {
     "ename": "ImportError",
     "evalue": "cannot import name 'webdiver' from 'selenium' (C:\\Users\\ict03-24\\AppData\\Roaming\\Python\\Python39\\site-packages\\selenium\\__init__.py)",
     "output_type": "error",
     "traceback": [
      "\u001b[1;31m---------------------------------------------------------------------------\u001b[0m",
      "\u001b[1;31mImportError\u001b[0m                               Traceback (most recent call last)",
      "Input \u001b[1;32mIn [2]\u001b[0m, in \u001b[0;36m<cell line: 4>\u001b[1;34m()\u001b[0m\n\u001b[0;32m      2\u001b[0m \u001b[38;5;28;01mfrom\u001b[39;00m \u001b[38;5;21;01mbs4\u001b[39;00m \u001b[38;5;28;01mimport\u001b[39;00m BeautifulSoup\n\u001b[0;32m      3\u001b[0m \u001b[38;5;28;01mimport\u001b[39;00m \u001b[38;5;21;01mrequests\u001b[39;00m\n\u001b[1;32m----> 4\u001b[0m \u001b[38;5;28;01mfrom\u001b[39;00m \u001b[38;5;21;01mselenium\u001b[39;00m \u001b[38;5;28;01mimport\u001b[39;00m webdiver\n",
      "\u001b[1;31mImportError\u001b[0m: cannot import name 'webdiver' from 'selenium' (C:\\Users\\ict03-24\\AppData\\Roaming\\Python\\Python39\\site-packages\\selenium\\__init__.py)"
     ]
    }
   ],
   "source": [
    "# 크롤링 작업을 위한 라이브러리 임포트\n",
    "from bs4 import BeautifulSoup\n",
    "import requests\n",
    "from selenium import webdiver"
   ]
  },
  {
   "cell_type": "code",
   "execution_count": null,
   "id": "dc664efc",
   "metadata": {},
   "outputs": [],
   "source": []
  },
  {
   "cell_type": "code",
   "execution_count": null,
   "id": "be583bd1",
   "metadata": {},
   "outputs": [],
   "source": []
  },
  {
   "cell_type": "code",
   "execution_count": null,
   "id": "ce3ac670",
   "metadata": {},
   "outputs": [],
   "source": []
  },
  {
   "cell_type": "code",
   "execution_count": null,
   "id": "a613d24e",
   "metadata": {},
   "outputs": [],
   "source": []
  },
  {
   "cell_type": "code",
   "execution_count": null,
   "id": "2946d229",
   "metadata": {},
   "outputs": [],
   "source": []
  }
 ],
 "metadata": {
  "kernelspec": {
   "display_name": "Python 3 (ipykernel)",
   "language": "python",
   "name": "python3"
  },
  "language_info": {
   "codemirror_mode": {
    "name": "ipython",
    "version": 3
   },
   "file_extension": ".py",
   "mimetype": "text/x-python",
   "name": "python",
   "nbconvert_exporter": "python",
   "pygments_lexer": "ipython3",
   "version": "3.9.12"
  }
 },
 "nbformat": 4,
 "nbformat_minor": 5
}
